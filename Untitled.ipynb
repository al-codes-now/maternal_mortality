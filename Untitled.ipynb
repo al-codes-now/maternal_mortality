{
 "cells": [
  {
   "cell_type": "code",
   "execution_count": 1,
   "metadata": {},
   "outputs": [],
   "source": [
    "import selenium\n",
    "from selenium import webdriver\n",
    "from selenium.webdriver.common.by import By\n",
    "from selenium.webdriver.common.keys import Keys\n",
    "from selenium.common.exceptions import TimeoutException\n",
    "from selenium.webdriver.support.ui import WebDriverWait\n",
    "from selenium.webdriver.support import expected_conditions as EC\n",
    "import time"
   ]
  },
  {
   "cell_type": "code",
   "execution_count": 2,
   "metadata": {},
   "outputs": [],
   "source": [
    "%%capture\n",
    "from tqdm import tqdm_notebook as tqdm\n",
    "import numpy as np"
   ]
  },
  {
   "cell_type": "code",
   "execution_count": 90,
   "metadata": {},
   "outputs": [],
   "source": [
    "# to open up the \n",
    "driver = webdriver.Chrome()"
   ]
  },
  {
   "cell_type": "code",
   "execution_count": 91,
   "metadata": {},
   "outputs": [],
   "source": [
    "# link to site we will be scraping\n",
    "url = 'https://gis.cdc.gov/grasp/nchhstpatlas/tables.html'"
   ]
  },
  {
   "cell_type": "code",
   "execution_count": 92,
   "metadata": {},
   "outputs": [],
   "source": [
    "# opens up site we need to scrape\n",
    "driver.get(url)"
   ]
  },
  {
   "cell_type": "code",
   "execution_count": 93,
   "metadata": {},
   "outputs": [],
   "source": [
    "# this gets what we need to scrape from the website\n",
    "table = driver.find_element_by_tag_name('table').text"
   ]
  },
  {
   "cell_type": "code",
   "execution_count": 94,
   "metadata": {},
   "outputs": [
    {
     "data": {
      "text/plain": [
       "'Indicator Year Geography Race/Ethnicity Age Group Cases Rate per 100,000\\nChlamydia 2018 Alabama White 45-54 26 11.8\\nChlamydia 2018 Alabama White 40-44 28 29.7\\nChlamydia 2018 Alabama White 35-39 66 69.5\\nChlamydia 2018 Alabama White 30-34 185 195.9\\nChlamydia 2018 Alabama White 25-29 437 422.6\\nChlamydia 2018 Alabama White 20-24 1,039 1082.2\\nChlamydia 2018 Alabama White 15-19 1,033 1108.7\\nChlamydia 2018 Alabama Native Hawaiian/Other Pacific Islander 45-54 0 0.0\\nChlamydia 2018 Alabama Native Hawaiian/Other Pacific Islander 40-44 0 0.0\\nChlamydia 2018 Alabama Native Hawaiian/Other Pacific Islander 35-39 0 0.0\\nChlamydia 2018 Alabama Native Hawaiian/Other Pacific Islander 30-34 0 0.0\\nChlamydia 2018 Alabama Native Hawaiian/Other Pacific Islander 25-29 1 1075.3\\nChlamydia 2018 Alabama Native Hawaiian/Other Pacific Islander 20-24 1 781.3\\nChlamydia 2018 Alabama Native Hawaiian/Other Pacific Islander 15-19 1 763.4\\nChlamydia 2018 Alabama Multiple races 45-54 0 0.0\\nChlamydia 2018 Alabama Multiple races 40-44 1 67.3\\nChlamydia 2018 Alabama Multiple races 35-39 1 60.2\\nChlamydia 2018 Alabama Multiple races 30-34 2 105.5\\nChlamydia 2018 Alabama Multiple races 25-29 14 574.7\\nChlamydia 2018 Alabama Multiple races 20-24 46 1526.7'"
      ]
     },
     "execution_count": 94,
     "metadata": {},
     "output_type": "execute_result"
    }
   ],
   "source": [
    "table"
   ]
  },
  {
   "cell_type": "code",
   "execution_count": 95,
   "metadata": {},
   "outputs": [],
   "source": [
    "# this splits our output from the tables so we have a list of observations from that data that we want\n",
    "info = [x.split(' ') for x in table.split('\\n')]"
   ]
  },
  {
   "cell_type": "code",
   "execution_count": 96,
   "metadata": {},
   "outputs": [
    {
     "data": {
      "text/plain": [
       "[['Indicator',\n",
       "  'Year',\n",
       "  'Geography',\n",
       "  'Race/Ethnicity',\n",
       "  'Age',\n",
       "  'Group',\n",
       "  'Cases',\n",
       "  'Rate',\n",
       "  'per',\n",
       "  '100,000'],\n",
       " ['Chlamydia', '2018', 'Alabama', 'White', '45-54', '26', '11.8'],\n",
       " ['Chlamydia', '2018', 'Alabama', 'White', '40-44', '28', '29.7'],\n",
       " ['Chlamydia', '2018', 'Alabama', 'White', '35-39', '66', '69.5'],\n",
       " ['Chlamydia', '2018', 'Alabama', 'White', '30-34', '185', '195.9'],\n",
       " ['Chlamydia', '2018', 'Alabama', 'White', '25-29', '437', '422.6'],\n",
       " ['Chlamydia', '2018', 'Alabama', 'White', '20-24', '1,039', '1082.2'],\n",
       " ['Chlamydia', '2018', 'Alabama', 'White', '15-19', '1,033', '1108.7'],\n",
       " ['Chlamydia',\n",
       "  '2018',\n",
       "  'Alabama',\n",
       "  'Native',\n",
       "  'Hawaiian/Other',\n",
       "  'Pacific',\n",
       "  'Islander',\n",
       "  '45-54',\n",
       "  '0',\n",
       "  '0.0'],\n",
       " ['Chlamydia',\n",
       "  '2018',\n",
       "  'Alabama',\n",
       "  'Native',\n",
       "  'Hawaiian/Other',\n",
       "  'Pacific',\n",
       "  'Islander',\n",
       "  '40-44',\n",
       "  '0',\n",
       "  '0.0'],\n",
       " ['Chlamydia',\n",
       "  '2018',\n",
       "  'Alabama',\n",
       "  'Native',\n",
       "  'Hawaiian/Other',\n",
       "  'Pacific',\n",
       "  'Islander',\n",
       "  '35-39',\n",
       "  '0',\n",
       "  '0.0'],\n",
       " ['Chlamydia',\n",
       "  '2018',\n",
       "  'Alabama',\n",
       "  'Native',\n",
       "  'Hawaiian/Other',\n",
       "  'Pacific',\n",
       "  'Islander',\n",
       "  '30-34',\n",
       "  '0',\n",
       "  '0.0'],\n",
       " ['Chlamydia',\n",
       "  '2018',\n",
       "  'Alabama',\n",
       "  'Native',\n",
       "  'Hawaiian/Other',\n",
       "  'Pacific',\n",
       "  'Islander',\n",
       "  '25-29',\n",
       "  '1',\n",
       "  '1075.3'],\n",
       " ['Chlamydia',\n",
       "  '2018',\n",
       "  'Alabama',\n",
       "  'Native',\n",
       "  'Hawaiian/Other',\n",
       "  'Pacific',\n",
       "  'Islander',\n",
       "  '20-24',\n",
       "  '1',\n",
       "  '781.3'],\n",
       " ['Chlamydia',\n",
       "  '2018',\n",
       "  'Alabama',\n",
       "  'Native',\n",
       "  'Hawaiian/Other',\n",
       "  'Pacific',\n",
       "  'Islander',\n",
       "  '15-19',\n",
       "  '1',\n",
       "  '763.4'],\n",
       " ['Chlamydia', '2018', 'Alabama', 'Multiple', 'races', '45-54', '0', '0.0'],\n",
       " ['Chlamydia', '2018', 'Alabama', 'Multiple', 'races', '40-44', '1', '67.3'],\n",
       " ['Chlamydia', '2018', 'Alabama', 'Multiple', 'races', '35-39', '1', '60.2'],\n",
       " ['Chlamydia', '2018', 'Alabama', 'Multiple', 'races', '30-34', '2', '105.5'],\n",
       " ['Chlamydia', '2018', 'Alabama', 'Multiple', 'races', '25-29', '14', '574.7'],\n",
       " ['Chlamydia',\n",
       "  '2018',\n",
       "  'Alabama',\n",
       "  'Multiple',\n",
       "  'races',\n",
       "  '20-24',\n",
       "  '46',\n",
       "  '1526.7']]"
      ]
     },
     "execution_count": 96,
     "metadata": {},
     "output_type": "execute_result"
    }
   ],
   "source": [
    "info"
   ]
  },
  {
   "cell_type": "code",
   "execution_count": 97,
   "metadata": {},
   "outputs": [],
   "source": [
    "col_names = ['Indicator',\n",
    "  'Year',\n",
    "  'Geography',\n",
    "  'Race/Ethnicity',\n",
    "  'Age',\n",
    "  'Group',\n",
    "  'Cases',\n",
    "  'Rate',\n",
    "  'per',\n",
    "  '100,000']"
   ]
  },
  {
   "cell_type": "code",
   "execution_count": 99,
   "metadata": {},
   "outputs": [],
   "source": [
    "master = []\n",
    "\n",
    "for x in info: \n",
    "    lst = []\n",
    "    if len(x) == 7:\n",
    "        lst = x\n",
    "    elif len(x) == 8:\n",
    "        lst = x[0:3]\n",
    "        lst.append(''.join(x[3:5]))\n",
    "        lst.extend(x[5:8])\n",
    "    elif len(x) == 9:\n",
    "        lst = x[0:3]\n",
    "        lst.append(''.join(x[3:6]))\n",
    "        lst.extend(x[6:9])\n",
    "    elif len(x) == 10:\n",
    "        lst = x[0:3]\n",
    "        lst.append(''.join(x[3:7]))\n",
    "        lst.extend(x[6:10])\n",
    "    elif x == col_names:\n",
    "        pass\n",
    "master.append(lst) "
   ]
  },
  {
   "cell_type": "code",
   "execution_count": 100,
   "metadata": {},
   "outputs": [
    {
     "data": {
      "text/plain": [
       "[['Chlamydia', '2018', 'Alabama', 'Multipleraces', '20-24', '46', '1526.7']]"
      ]
     },
     "execution_count": 100,
     "metadata": {},
     "output_type": "execute_result"
    }
   ],
   "source": [
    "master"
   ]
  },
  {
   "cell_type": "code",
   "execution_count": 98,
   "metadata": {},
   "outputs": [],
   "source": [
    "next_b = driver.find_element_by_xpath('//*[@id=\"pivotTable_next\"]')"
   ]
  },
  {
   "cell_type": "code",
   "execution_count": 81,
   "metadata": {},
   "outputs": [
    {
     "name": "stderr",
     "output_type": "stream",
     "text": [
      "<ipython-input-81-357a3637642a>:5: TqdmDeprecationWarning: This function will be removed in tqdm==5.0.0\n",
      "Please use `tqdm.notebook.tqdm` instead of `tqdm.tqdm_notebook`\n",
      "  for i in tqdm(range(0,5)):\n"
     ]
    },
    {
     "data": {
      "application/vnd.jupyter.widget-view+json": {
       "model_id": "d0ede5b2712342a1921dfb520cc7dce4",
       "version_major": 2,
       "version_minor": 0
      },
      "text/plain": [
       "HBox(children=(FloatProgress(value=0.0, max=5.0), HTML(value='')))"
      ]
     },
     "metadata": {},
     "output_type": "display_data"
    },
    {
     "name": "stdout",
     "output_type": "stream",
     "text": [
      "\n"
     ]
    }
   ],
   "source": [
    "master = []\n",
    "table = driver.find_element_by_tag_name('table').text\n",
    "info = [x.split(' ') for x in table.split('\\n')]\n",
    "s = ''\n",
    "for i in tqdm(range(0,5)):\n",
    "#     table = driver.find_element_by_tag_name('table').text\n",
    "#     info = [x.split(' ') for x in table.split('\\n')]\n",
    "\n",
    "    for x in info: \n",
    "        lst = []\n",
    "        if len(x) == 7:\n",
    "            lst = x\n",
    "        elif len(x) == 8:\n",
    "            lst = x[0:3]\n",
    "            lst.append(''.join(x[3:5]))\n",
    "            lst.extend(x[5:8])\n",
    "        elif len(x) == 9:\n",
    "            lst = x[0:3]\n",
    "            lst.append(''.join(x[3:6]))\n",
    "            lst.extend(x[6:9])\n",
    "        elif len(x) == 10:\n",
    "            lst = x[0:3]\n",
    "            lst.append(''.join(x[3:7]))\n",
    "            lst.extend(x[6:10])\n",
    "        elif x == col_names:\n",
    "            pass\n",
    "\n",
    "    master.append(lst)\n",
    "    \n",
    "    next_b = driver.find_element_by_xpath('//*[@id=\"pivotTable_next\"]')\n",
    "    next_b.click()\n",
    "    "
   ]
  },
  {
   "cell_type": "code",
   "execution_count": 80,
   "metadata": {},
   "outputs": [
    {
     "data": {
      "text/plain": [
       "[['Indicator',\n",
       "  'Year',\n",
       "  'Geography',\n",
       "  'Race/Ethnicity',\n",
       "  'Age',\n",
       "  'Group',\n",
       "  'Cases',\n",
       "  'Rate',\n",
       "  'per',\n",
       "  '100,000'],\n",
       " ['Chlamydia',\n",
       "  '2016',\n",
       "  'Alabama',\n",
       "  'American',\n",
       "  'Indian/Alaska',\n",
       "  'Native',\n",
       "  '45-54',\n",
       "  '0',\n",
       "  '0.0'],\n",
       " ['Chlamydia',\n",
       "  '2016',\n",
       "  'Alabama',\n",
       "  'American',\n",
       "  'Indian/Alaska',\n",
       "  'Native',\n",
       "  '40-44',\n",
       "  '0',\n",
       "  '0.0'],\n",
       " ['Chlamydia',\n",
       "  '2016',\n",
       "  'Alabama',\n",
       "  'American',\n",
       "  'Indian/Alaska',\n",
       "  'Native',\n",
       "  '35-39',\n",
       "  '2',\n",
       "  '226.0'],\n",
       " ['Chlamydia',\n",
       "  '2016',\n",
       "  'Alabama',\n",
       "  'American',\n",
       "  'Indian/Alaska',\n",
       "  'Native',\n",
       "  '30-34',\n",
       "  '3',\n",
       "  '325.0'],\n",
       " ['Chlamydia',\n",
       "  '2016',\n",
       "  'Alabama',\n",
       "  'American',\n",
       "  'Indian/Alaska',\n",
       "  'Native',\n",
       "  '25-29',\n",
       "  '3',\n",
       "  '336.7'],\n",
       " ['Chlamydia',\n",
       "  '2016',\n",
       "  'Alabama',\n",
       "  'American',\n",
       "  'Indian/Alaska',\n",
       "  'Native',\n",
       "  '20-24',\n",
       "  '6',\n",
       "  '620.5'],\n",
       " ['Chlamydia',\n",
       "  '2016',\n",
       "  'Alabama',\n",
       "  'American',\n",
       "  'Indian/Alaska',\n",
       "  'Native',\n",
       "  '15-19',\n",
       "  '7',\n",
       "  '726.9'],\n",
       " ['Chlamydia', '2015', 'Alabama', 'White', '45-54', '23', '10.2'],\n",
       " ['Chlamydia', '2015', 'Alabama', 'White', '40-44', '32', '31.8'],\n",
       " ['Chlamydia', '2015', 'Alabama', 'White', '35-39', '85', '91.0'],\n",
       " ['Chlamydia', '2015', 'Alabama', 'White', '30-34', '231', '243.2'],\n",
       " ['Chlamydia', '2015', 'Alabama', 'White', '25-29', '524', '524.5'],\n",
       " ['Chlamydia', '2015', 'Alabama', 'White', '20-24', '1,415', '1395.4'],\n",
       " ['Chlamydia', '2015', 'Alabama', 'White', '15-19', '1,147', '1218.8'],\n",
       " ['Chlamydia',\n",
       "  '2015',\n",
       "  'Alabama',\n",
       "  'Native',\n",
       "  'Hawaiian/Other',\n",
       "  'Pacific',\n",
       "  'Islander',\n",
       "  '45-54',\n",
       "  '0',\n",
       "  '0.0'],\n",
       " ['Chlamydia',\n",
       "  '2015',\n",
       "  'Alabama',\n",
       "  'Native',\n",
       "  'Hawaiian/Other',\n",
       "  'Pacific',\n",
       "  'Islander',\n",
       "  '40-44',\n",
       "  '0',\n",
       "  '0.0'],\n",
       " ['Chlamydia',\n",
       "  '2015',\n",
       "  'Alabama',\n",
       "  'Native',\n",
       "  'Hawaiian/Other',\n",
       "  'Pacific',\n",
       "  'Islander',\n",
       "  '35-39',\n",
       "  '1',\n",
       "  '980.4'],\n",
       " ['Chlamydia',\n",
       "  '2015',\n",
       "  'Alabama',\n",
       "  'Native',\n",
       "  'Hawaiian/Other',\n",
       "  'Pacific',\n",
       "  'Islander',\n",
       "  '30-34',\n",
       "  '0',\n",
       "  '0.0'],\n",
       " ['Chlamydia',\n",
       "  '2015',\n",
       "  'Alabama',\n",
       "  'Native',\n",
       "  'Hawaiian/Other',\n",
       "  'Pacific',\n",
       "  'Islander',\n",
       "  '25-29',\n",
       "  '0',\n",
       "  '0.0'],\n",
       " ['Chlamydia',\n",
       "  '2015',\n",
       "  'Alabama',\n",
       "  'Native',\n",
       "  'Hawaiian/Other',\n",
       "  'Pacific',\n",
       "  'Islander',\n",
       "  '20-24',\n",
       "  '1',\n",
       "  '1010.1']]"
      ]
     },
     "execution_count": 80,
     "metadata": {},
     "output_type": "execute_result"
    }
   ],
   "source": [
    "info"
   ]
  },
  {
   "cell_type": "code",
   "execution_count": 82,
   "metadata": {},
   "outputs": [
    {
     "data": {
      "text/plain": [
       "[['Chlamydia',\n",
       "  '2015',\n",
       "  'Alabama',\n",
       "  'Black/AfricanAmerican',\n",
       "  '25-29',\n",
       "  '1,399',\n",
       "  '2765.7'],\n",
       " ['Chlamydia',\n",
       "  '2015',\n",
       "  'Alabama',\n",
       "  'Black/AfricanAmerican',\n",
       "  '25-29',\n",
       "  '1,399',\n",
       "  '2765.7'],\n",
       " ['Chlamydia',\n",
       "  '2015',\n",
       "  'Alabama',\n",
       "  'Black/AfricanAmerican',\n",
       "  '25-29',\n",
       "  '1,399',\n",
       "  '2765.7'],\n",
       " ['Chlamydia',\n",
       "  '2015',\n",
       "  'Alabama',\n",
       "  'Black/AfricanAmerican',\n",
       "  '25-29',\n",
       "  '1,399',\n",
       "  '2765.7'],\n",
       " ['Chlamydia',\n",
       "  '2015',\n",
       "  'Alabama',\n",
       "  'Black/AfricanAmerican',\n",
       "  '25-29',\n",
       "  '1,399',\n",
       "  '2765.7']]"
      ]
     },
     "execution_count": 82,
     "metadata": {},
     "output_type": "execute_result"
    }
   ],
   "source": [
    "master"
   ]
  },
  {
   "cell_type": "code",
   "execution_count": 47,
   "metadata": {},
   "outputs": [],
   "source": [
    "master = []\n",
    "table = driver.find_element_by_tag_name('table').text\n",
    "info = [x.split(' ') for x in table.split('\\n')]\n",
    "s = ''\n",
    "\n",
    "for x in info: \n",
    "    lst = []\n",
    "    if len(x) == 7:\n",
    "        lst = x\n",
    "    elif len(x) == 8:\n",
    "        lst = x[0:3]\n",
    "        lst.append(''.join(x[3:5]))\n",
    "        lst.extend(x[5:8])\n",
    "    elif len(x) == 9:\n",
    "        lst = x[0:3]\n",
    "        lst.append(''.join(x[3:6]))\n",
    "        lst.extend(x[6:9])\n",
    "    elif len(x) == 10:\n",
    "        lst = x[0:3]\n",
    "        lst.append(''.join(x[3:7]))\n",
    "        lst.extend(x[6:10])\n",
    "    elif x == col_names:\n",
    "        pass\n",
    "\n",
    "    master.append(lst)"
   ]
  },
  {
   "cell_type": "code",
   "execution_count": 49,
   "metadata": {},
   "outputs": [
    {
     "data": {
      "text/plain": [
       "21"
      ]
     },
     "execution_count": 49,
     "metadata": {},
     "output_type": "execute_result"
    }
   ],
   "source": [
    "len(master)"
   ]
  },
  {
   "cell_type": "code",
   "execution_count": 87,
   "metadata": {},
   "outputs": [],
   "source": [
    "table = driver.find_element_by_tag_name('table').text\n",
    "info = [x.split(' ') for x in table.split('\\n')]\n",
    "master = []\n",
    "for x in info: \n",
    "    lst = []\n",
    "    if len(x) == 7:\n",
    "        lst = x\n",
    "    elif len(x) == 8:\n",
    "        lst = x[0:3]\n",
    "        lst.append(''.join(x[3:5]))\n",
    "        lst.extend(x[5:8])\n",
    "    elif len(x) == 9:\n",
    "        lst = x[0:3]\n",
    "        lst.append(''.join(x[3:6]))\n",
    "        lst.extend(x[6:9])\n",
    "    elif len(x) == 10:\n",
    "        lst = x[0:3]\n",
    "        lst.append(''.join(x[3:7]))\n",
    "        lst.extend(x[6:10])\n",
    "    elif x == col_names:\n",
    "        pass\n",
    "master.append(lst)"
   ]
  },
  {
   "cell_type": "code",
   "execution_count": 88,
   "metadata": {},
   "outputs": [
    {
     "data": {
      "text/plain": [
       "[['Chlamydia',\n",
       "  '2013',\n",
       "  'Alabama',\n",
       "  'Black/AfricanAmerican',\n",
       "  '15-19',\n",
       "  '3,412',\n",
       "  '6757.6']]"
      ]
     },
     "execution_count": 88,
     "metadata": {},
     "output_type": "execute_result"
    }
   ],
   "source": [
    "master"
   ]
  },
  {
   "cell_type": "code",
   "execution_count": 89,
   "metadata": {},
   "outputs": [
    {
     "name": "stdout",
     "output_type": "stream",
     "text": [
      "['Indicator', 'Year', 'Geography', 'Race/Ethnicity', 'Age', 'Group', 'Cases', 'Rate', 'per', '100,000']\n",
      "['Chlamydia', '2013', 'Alabama', 'Multiple', 'races', '40-44', '0', '0.0']\n",
      "['Chlamydia', '2013', 'Alabama', 'Multiple', 'races', '35-39', '0', '0.0']\n",
      "['Chlamydia', '2013', 'Alabama', 'Multiple', 'races', '30-34', '0', '0.0']\n",
      "['Chlamydia', '2013', 'Alabama', 'Multiple', 'races', '25-29', '4', '206.8']\n",
      "['Chlamydia', '2013', 'Alabama', 'Multiple', 'races', '20-24', '11', '418.7']\n",
      "['Chlamydia', '2013', 'Alabama', 'Multiple', 'races', '15-19', '14', '456.0']\n",
      "['Chlamydia', '2013', 'Alabama', 'Hispanic/Latino', '45-54', '0', '0.0']\n",
      "['Chlamydia', '2013', 'Alabama', 'Hispanic/Latino', '40-44', '2', '37.5']\n",
      "['Chlamydia', '2013', 'Alabama', 'Hispanic/Latino', '35-39', '8', '118.2']\n",
      "['Chlamydia', '2013', 'Alabama', 'Hispanic/Latino', '30-34', '14', '173.7']\n",
      "['Chlamydia', '2013', 'Alabama', 'Hispanic/Latino', '25-29', '29', '363.0']\n",
      "['Chlamydia', '2013', 'Alabama', 'Hispanic/Latino', '20-24', '56', '796.6']\n",
      "['Chlamydia', '2013', 'Alabama', 'Hispanic/Latino', '15-19', '33', '491.1']\n",
      "['Chlamydia', '2013', 'Alabama', 'Black/African', 'American', '45-54', '42', '45.7']\n",
      "['Chlamydia', '2013', 'Alabama', 'Black/African', 'American', '40-44', '64', '145.1']\n",
      "['Chlamydia', '2013', 'Alabama', 'Black/African', 'American', '35-39', '173', '397.4']\n",
      "['Chlamydia', '2013', 'Alabama', 'Black/African', 'American', '30-34', '480', '1004.3']\n",
      "['Chlamydia', '2013', 'Alabama', 'Black/African', 'American', '25-29', '1,281', '2665.9']\n",
      "['Chlamydia', '2013', 'Alabama', 'Black/African', 'American', '20-24', '4,209', '7243.7']\n",
      "['Chlamydia', '2013', 'Alabama', 'Black/African', 'American', '15-19', '3,412', '6757.6']\n"
     ]
    }
   ],
   "source": [
    "for x in info:\n",
    "    print(x)"
   ]
  },
  {
   "cell_type": "code",
   "execution_count": null,
   "metadata": {},
   "outputs": [],
   "source": []
  }
 ],
 "metadata": {
  "kernelspec": {
   "display_name": "learn-env",
   "language": "python",
   "name": "learn-env"
  },
  "language_info": {
   "codemirror_mode": {
    "name": "ipython",
    "version": 3
   },
   "file_extension": ".py",
   "mimetype": "text/x-python",
   "name": "python",
   "nbconvert_exporter": "python",
   "pygments_lexer": "ipython3",
   "version": "3.8.3"
  },
  "toc": {
   "base_numbering": 1,
   "nav_menu": {},
   "number_sections": true,
   "sideBar": true,
   "skip_h1_title": false,
   "title_cell": "Table of Contents",
   "title_sidebar": "Contents",
   "toc_cell": false,
   "toc_position": {},
   "toc_section_display": true,
   "toc_window_display": false
  }
 },
 "nbformat": 4,
 "nbformat_minor": 4
}
