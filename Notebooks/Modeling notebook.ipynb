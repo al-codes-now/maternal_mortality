{
 "cells": [
  {
   "cell_type": "markdown",
   "metadata": {
    "heading_collapsed": true
   },
   "source": [
    "### Importing the necessary packages"
   ]
  },
  {
   "cell_type": "code",
   "execution_count": 1,
   "metadata": {
    "hidden": true
   },
   "outputs": [],
   "source": [
    "import pandas as pd\n",
    "import statsmodels.api as sm\n",
    "from statsmodels.formula.api import ols\n",
    "import matplotlib.pyplot as plt\n",
    "plt.style.use('seaborn')\n",
    "from linearmodels import PanelOLS\n",
    "import statsmodels.api as sm"
   ]
  },
  {
   "cell_type": "code",
   "execution_count": 2,
   "metadata": {
    "hidden": true
   },
   "outputs": [],
   "source": [
    "import seaborn as sns\n",
    "import matplotlib.pyplot as plt\n",
    "%matplotlib inline\n",
    "from matplotlib.pyplot import MaxNLocator, FuncFormatter"
   ]
  },
  {
   "cell_type": "markdown",
   "metadata": {
    "heading_collapsed": true
   },
   "source": [
    "### Reading in the data"
   ]
  },
  {
   "cell_type": "code",
   "execution_count": 48,
   "metadata": {
    "hidden": true
   },
   "outputs": [],
   "source": [
    "df = pd.read_csv('/Users/alexandrabruno/Documents/flatiron/data/final.csv')"
   ]
  },
  {
   "cell_type": "code",
   "execution_count": 49,
   "metadata": {
    "hidden": true
   },
   "outputs": [],
   "source": [
    "df.drop(['Unnamed: 0', 'Unnamed: 0.1'], axis = 1,inplace = True) "
   ]
  },
  {
   "cell_type": "markdown",
   "metadata": {
    "heading_collapsed": true
   },
   "source": [
    "### Creating dummy variables and renaming the columns"
   ]
  },
  {
   "cell_type": "code",
   "execution_count": 50,
   "metadata": {
    "hidden": true
   },
   "outputs": [],
   "source": [
    "df = pd.get_dummies(df, columns=['AGE'])"
   ]
  },
  {
   "cell_type": "code",
   "execution_count": 51,
   "metadata": {
    "hidden": true
   },
   "outputs": [],
   "source": [
    "df.rename(columns = {'AGE_15 to 19':'fifteen_nineteen','AGE_20 to 24':'twnty_twntyfour','AGE_25 to 29':'twntyfiv_twntynine','AGE_35 to 39':'thrtyfiv_thrtynine'}, inplace = True)"
   ]
  },
  {
   "cell_type": "code",
   "execution_count": 52,
   "metadata": {
    "hidden": true
   },
   "outputs": [],
   "source": [
    "df = pd.get_dummies(df, columns=['STATE'])"
   ]
  },
  {
   "cell_type": "code",
   "execution_count": 53,
   "metadata": {
    "hidden": true
   },
   "outputs": [],
   "source": [
    "df.columns = df.columns.str.replace(' ','_')"
   ]
  },
  {
   "cell_type": "code",
   "execution_count": 54,
   "metadata": {
    "hidden": true
   },
   "outputs": [
    {
     "data": {
      "text/plain": [
       "'measure+cause+metric+YEAR+DEATH_RTE+LESS_HS+HS+SOM_COL+COL_PLUS+RTE_CHL+RTE_GON+PRC_BLK+PRC_WHT+PRC_HISP+PRC_OTHER+fifteen_nineteen+twnty_twntyfour+twntyfiv_twntynine+thrtyfiv_thrtynine+STATE_Alabama+STATE_Alaska+STATE_Arizona+STATE_Arkansas+STATE_California+STATE_Colorado+STATE_Connecticut+STATE_Delaware+STATE_District_of_Columbia+STATE_Florida+STATE_Georgia+STATE_Hawaii+STATE_Idaho+STATE_Illinois+STATE_Indiana+STATE_Iowa+STATE_Kansas+STATE_Kentucky+STATE_Louisiana+STATE_Maryland+STATE_Massachusetts+STATE_Michigan+STATE_Minnesota+STATE_Mississippi+STATE_Missouri+STATE_Nebraska+STATE_Nevada+STATE_New_Jersey+STATE_New_Mexico+STATE_New_York+STATE_North_Carolina+STATE_Ohio+STATE_Oklahoma+STATE_Oregon+STATE_Pennsylvania+STATE_Rhode_Island+STATE_South_Carolina+STATE_South_Dakota+STATE_Tennessee+STATE_Texas+STATE_Utah+STATE_Virginia+STATE_Washington+STATE_West_Virginia+STATE_Wisconsin+STATE_Wyoming'"
      ]
     },
     "execution_count": 54,
     "metadata": {},
     "output_type": "execute_result"
    }
   ],
   "source": [
    "'+'.join(df.columns)"
   ]
  },
  {
   "cell_type": "markdown",
   "metadata": {},
   "source": [
    "### Baseline OLS model\n",
    "\n",
    "Notes:"
   ]
  },
  {
   "cell_type": "code",
   "execution_count": 106,
   "metadata": {},
   "outputs": [
    {
     "name": "stdout",
     "output_type": "stream",
     "text": [
      "                            OLS Regression Results                            \n",
      "==============================================================================\n",
      "Dep. Variable:              DEATH_RTE   R-squared:                       0.469\n",
      "Model:                            OLS   Adj. R-squared:                  0.463\n",
      "Method:                 Least Squares   F-statistic:                     84.15\n",
      "Date:                Tue, 16 Feb 2021   Prob (F-statistic):          7.31e-148\n",
      "Time:                        20:11:47   Log-Likelihood:                -4598.2\n",
      "No. Observations:                1158   AIC:                             9222.\n",
      "Df Residuals:                    1145   BIC:                             9288.\n",
      "Df Model:                          12                                         \n",
      "Covariance Type:            nonrobust                                         \n",
      "======================================================================================\n",
      "                         coef    std err          t      P>|t|      [0.025      0.975]\n",
      "--------------------------------------------------------------------------------------\n",
      "Intercept            354.1880    208.527      1.699      0.090     -54.949     763.325\n",
      "YEAR                  -0.2081      0.129     -1.610      0.108      -0.462       0.046\n",
      "LESS_HS               -3.5729      9.867     -0.362      0.717     -22.932      15.786\n",
      "HS                    31.3063      8.716      3.592      0.000      14.206      48.407\n",
      "SOM_COL               21.1498     31.660      0.668      0.504     -40.968      83.268\n",
      "RTE_CHL                0.0029      0.001      2.252      0.025       0.000       0.005\n",
      "RTE_GON                0.0131      0.004      3.568      0.000       0.006       0.020\n",
      "PRC_BLK              -19.7002      9.178     -2.147      0.032     -37.707      -1.693\n",
      "PRC_WHT             -194.3149     30.031     -6.471      0.000    -253.236    -135.393\n",
      "PRC_HISP              24.0620     11.229      2.143      0.032       2.031      46.093\n",
      "fifteen_nineteen      75.5225     51.779      1.459      0.145     -26.070     177.115\n",
      "twnty_twntyfour       82.5431     52.341      1.577      0.115     -20.152     185.238\n",
      "twntyfiv_twntynine    82.5101     52.495      1.572      0.116     -20.487     185.507\n",
      "thrtyfiv_thrtynine   113.6124     52.118      2.180      0.029      11.356     215.869\n",
      "==============================================================================\n",
      "Omnibus:                      593.295   Durbin-Watson:                   1.662\n",
      "Prob(Omnibus):                  0.000   Jarque-Bera (JB):             6141.540\n",
      "Skew:                           2.132   Prob(JB):                         0.00\n",
      "Kurtosis:                      13.446   Cond. No.                     2.43e+19\n",
      "==============================================================================\n",
      "\n",
      "Warnings:\n",
      "[1] Standard Errors assume that the covariance matrix of the errors is correctly specified.\n",
      "[2] The smallest eigenvalue is 1.63e-29. This might indicate that there are\n",
      "strong multicollinearity problems or that the design matrix is singular.\n"
     ]
    }
   ],
   "source": [
    "f = 'DEATH_RTE~LESS_HS+HS+SOM_COL+RTE_CHL+RTE_GON+PRC_BLK+PRC_WHT+PRC_HISP+fifteen_nineteen+twnty_twntyfour+twntyfiv_twntynine+thrtyfiv_thrtynine+STATE_Alabama+STATE_Alaska+STATE_Arizona+STATE_Arkansas+STATE_California+STATE_Colorado+STATE_Connecticut+STATE_Delaware+STATE_District_of_Columbia+STATE_Florida+STATE_Georgia+STATE_Hawaii+STATE_Idaho+STATE_Illinois+STATE_Indiana+STATE_Iowa+STATE_Kansas+STATE_Kentucky+STATE_Louisiana+STATE_Maryland+STATE_Massachusetts+STATE_Michigan+STATE_Minnesota+STATE_Mississippi+STATE_Missouri+STATE_Nebraska+STATE_Nevada+STATE_New_Jersey+STATE_New_Mexico+STATE_New_York+STATE_North_Carolina+STATE_Ohio+STATE_Oklahoma+STATE_Oregon+STATE_Pennsylvania+STATE_Rhode_Island+STATE_South_Carolina+STATE_South_Dakota+STATE_Tennessee+STATE_Texas+STATE_Utah+STATE_Virginia+STATE_Washington+STATE_West_Virginia+STATE_Wisconsin'\n",
    "model = ols(formula=f, data=df).fit()\n",
    "print(model.summary())"
   ]
  },
  {
   "cell_type": "markdown",
   "metadata": {},
   "source": [
    "### Creating a function to iterate through our features one by one to control for age (OLS model) \n",
    "\n",
    "Here I test our dependent variable against each of our features"
   ]
  },
  {
   "cell_type": "code",
   "execution_count": 18,
   "metadata": {},
   "outputs": [],
   "source": [
    "features = ['LESS_HS','HS', 'SOM_COL', 'COL_PLUS', 'RTE_CHL', 'RTE_GON', 'PRC_BLK', 'PRC_WHT','PRC_HISP', 'PRC_OTHER']"
   ]
  },
  {
   "cell_type": "code",
   "execution_count": 20,
   "metadata": {},
   "outputs": [],
   "source": [
    "def OLS(features):\n",
    "    for feature in features:\n",
    "        f = 'DEATH_RTE~fifteen_nineteen+twnty_twntyfour+twntyfiv_twntynine+thrtyfiv_thrtynine+'+feature\n",
    "        model = ols(formula=f, data=df).fit()\n",
    "        print(model.summary())"
   ]
  },
  {
   "cell_type": "code",
   "execution_count": 21,
   "metadata": {},
   "outputs": [
    {
     "name": "stdout",
     "output_type": "stream",
     "text": [
      "                            OLS Regression Results                            \n",
      "==============================================================================\n",
      "Dep. Variable:              DEATH_RTE   R-squared:                       0.355\n",
      "Model:                            OLS   Adj. R-squared:                  0.353\n",
      "Method:                 Least Squares   F-statistic:                     159.0\n",
      "Date:                Wed, 17 Feb 2021   Prob (F-statistic):          2.25e-108\n",
      "Time:                        11:16:06   Log-Likelihood:                -4710.0\n",
      "No. Observations:                1158   AIC:                             9430.\n",
      "Df Residuals:                    1153   BIC:                             9455.\n",
      "Df Model:                           4                                         \n",
      "Covariance Type:            nonrobust                                         \n",
      "======================================================================================\n",
      "                         coef    std err          t      P>|t|      [0.025      0.975]\n",
      "--------------------------------------------------------------------------------------\n",
      "Intercept             19.9168      1.199     16.613      0.000      17.565      22.269\n",
      "fifteen_nineteen      -6.6389      3.641     -1.823      0.068     -13.782       0.505\n",
      "twnty_twntyfour        0.8553      1.426      0.600      0.549      -1.943       3.654\n",
      "twntyfiv_twntynine     3.3110      1.232      2.687      0.007       0.894       5.728\n",
      "thrtyfiv_thrtynine    22.3893      1.121     19.966      0.000      20.189      24.589\n",
      "LESS_HS              -24.7151      9.518     -2.597      0.010     -43.389      -6.041\n",
      "==============================================================================\n",
      "Omnibus:                      707.692   Durbin-Watson:                   1.598\n",
      "Prob(Omnibus):                  0.000   Jarque-Bera (JB):             9045.750\n",
      "Skew:                           2.615   Prob(JB):                         0.00\n",
      "Kurtosis:                      15.654   Cond. No.                     1.55e+15\n",
      "==============================================================================\n",
      "\n",
      "Warnings:\n",
      "[1] Standard Errors assume that the covariance matrix of the errors is correctly specified.\n",
      "[2] The smallest eigenvalue is 6.51e-28. This might indicate that there are\n",
      "strong multicollinearity problems or that the design matrix is singular.\n",
      "                            OLS Regression Results                            \n",
      "==============================================================================\n",
      "Dep. Variable:              DEATH_RTE   R-squared:                       0.352\n",
      "Model:                            OLS   Adj. R-squared:                  0.349\n",
      "Method:                 Least Squares   F-statistic:                     156.4\n",
      "Date:                Wed, 17 Feb 2021   Prob (F-statistic):          6.23e-107\n",
      "Time:                        11:16:06   Log-Likelihood:                -4713.4\n",
      "No. Observations:                1158   AIC:                             9437.\n",
      "Df Residuals:                    1153   BIC:                             9462.\n",
      "Df Model:                           4                                         \n",
      "Covariance Type:            nonrobust                                         \n",
      "======================================================================================\n",
      "                         coef    std err          t      P>|t|      [0.025      0.975]\n",
      "--------------------------------------------------------------------------------------\n",
      "Intercept             17.8145      1.097     16.238      0.000      15.662      19.967\n",
      "fifteen_nineteen      -5.0296      3.611     -1.393      0.164     -12.114       2.055\n",
      "twnty_twntyfour       -1.6745      1.181     -1.418      0.156      -3.991       0.642\n",
      "twntyfiv_twntynine     1.6232      1.197      1.357      0.175      -0.725       3.971\n",
      "thrtyfiv_thrtynine    22.8955      1.121     20.418      0.000      20.695      25.096\n",
      "HS                     2.1004      8.704      0.241      0.809     -14.978      19.178\n",
      "==============================================================================\n",
      "Omnibus:                      693.865   Durbin-Watson:                   1.596\n",
      "Prob(Omnibus):                  0.000   Jarque-Bera (JB):             8460.284\n",
      "Skew:                           2.563   Prob(JB):                         0.00\n",
      "Kurtosis:                      15.209   Cond. No.                     1.55e+15\n",
      "==============================================================================\n",
      "\n",
      "Warnings:\n",
      "[1] Standard Errors assume that the covariance matrix of the errors is correctly specified.\n",
      "[2] The smallest eigenvalue is 6.48e-28. This might indicate that there are\n",
      "strong multicollinearity problems or that the design matrix is singular.\n",
      "                            OLS Regression Results                            \n",
      "==============================================================================\n",
      "Dep. Variable:              DEATH_RTE   R-squared:                       0.373\n",
      "Model:                            OLS   Adj. R-squared:                  0.371\n",
      "Method:                 Least Squares   F-statistic:                     171.6\n",
      "Date:                Wed, 17 Feb 2021   Prob (F-statistic):          2.41e-115\n",
      "Time:                        11:16:06   Log-Likelihood:                -4693.9\n",
      "No. Observations:                1158   AIC:                             9398.\n",
      "Df Residuals:                    1153   BIC:                             9423.\n",
      "Df Model:                           4                                         \n",
      "Covariance Type:            nonrobust                                         \n",
      "======================================================================================\n",
      "                         coef    std err          t      P>|t|      [0.025      0.975]\n",
      "--------------------------------------------------------------------------------------\n",
      "Intercept             24.1026      1.341     17.980      0.000      21.472      26.733\n",
      "fifteen_nineteen      -9.5390      3.612     -2.641      0.008     -16.625      -2.453\n",
      "twnty_twntyfour        0.0863      1.098      0.079      0.937      -2.067       2.240\n",
      "twntyfiv_twntynine    10.9927      1.812      6.067      0.000       7.438      14.548\n",
      "thrtyfiv_thrtynine    22.5626      1.092     20.653      0.000      20.419      24.706\n",
      "SOM_COL             -123.3943     19.613     -6.292      0.000    -161.875     -84.913\n",
      "==============================================================================\n",
      "Omnibus:                      667.536   Durbin-Watson:                   1.515\n",
      "Prob(Omnibus):                  0.000   Jarque-Bera (JB):             7538.506\n",
      "Skew:                           2.460   Prob(JB):                         0.00\n",
      "Kurtosis:                      14.490   Cond. No.                     1.54e+15\n",
      "==============================================================================\n",
      "\n",
      "Warnings:\n",
      "[1] Standard Errors assume that the covariance matrix of the errors is correctly specified.\n",
      "[2] The smallest eigenvalue is 6.49e-28. This might indicate that there are\n",
      "strong multicollinearity problems or that the design matrix is singular.\n",
      "                            OLS Regression Results                            \n",
      "==============================================================================\n",
      "Dep. Variable:              DEATH_RTE   R-squared:                       0.365\n",
      "Model:                            OLS   Adj. R-squared:                  0.363\n",
      "Method:                 Least Squares   F-statistic:                     165.5\n",
      "Date:                Wed, 17 Feb 2021   Prob (F-statistic):          5.33e-112\n",
      "Time:                        11:16:06   Log-Likelihood:                -4701.6\n",
      "No. Observations:                1158   AIC:                             9413.\n",
      "Df Residuals:                    1153   BIC:                             9438.\n",
      "Df Model:                           4                                         \n",
      "Covariance Type:            nonrobust                                         \n",
      "======================================================================================\n",
      "                         coef    std err          t      P>|t|      [0.025      0.975]\n",
      "--------------------------------------------------------------------------------------\n",
      "Intercept             24.3834      1.611     15.131      0.000      21.222      27.545\n",
      "fifteen_nineteen       9.9974      4.724      2.116      0.035       0.729      19.266\n",
      "twnty_twntyfour       -6.4374      1.468     -4.386      0.000      -9.317      -3.558\n",
      "twntyfiv_twntynine     0.2115      1.113      0.190      0.849      -1.972       2.395\n",
      "thrtyfiv_thrtynine    20.6119      1.192     17.297      0.000      18.274      22.950\n",
      "COL_PLUS             -52.4961     10.781     -4.869      0.000     -73.649     -31.344\n",
      "==============================================================================\n",
      "Omnibus:                      680.666   Durbin-Watson:                   1.578\n",
      "Prob(Omnibus):                  0.000   Jarque-Bera (JB):             7812.563\n",
      "Skew:                           2.520   Prob(JB):                         0.00\n",
      "Kurtosis:                      14.684   Cond. No.                     1.54e+15\n",
      "==============================================================================\n",
      "\n",
      "Warnings:\n",
      "[1] Standard Errors assume that the covariance matrix of the errors is correctly specified.\n",
      "[2] The smallest eigenvalue is 6.51e-28. This might indicate that there are\n",
      "strong multicollinearity problems or that the design matrix is singular.\n",
      "                            OLS Regression Results                            \n",
      "==============================================================================\n",
      "Dep. Variable:              DEATH_RTE   R-squared:                       0.419\n",
      "Model:                            OLS   Adj. R-squared:                  0.417\n",
      "Method:                 Least Squares   F-statistic:                     208.2\n",
      "Date:                Wed, 17 Feb 2021   Prob (F-statistic):          1.90e-134\n",
      "Time:                        11:16:06   Log-Likelihood:                -4649.6\n",
      "No. Observations:                1158   AIC:                             9309.\n",
      "Df Residuals:                    1153   BIC:                             9334.\n",
      "Df Model:                           4                                         \n",
      "Covariance Type:            nonrobust                                         \n",
      "======================================================================================\n",
      "                         coef    std err          t      P>|t|      [0.025      0.975]\n",
      "--------------------------------------------------------------------------------------\n",
      "Intercept              9.9439      1.121      8.868      0.000       7.744      12.144\n",
      "fifteen_nineteen      -1.2911      3.425     -0.377      0.706      -8.010       5.428\n",
      "twnty_twntyfour       -4.0463      1.048     -3.861      0.000      -6.102      -1.990\n",
      "twntyfiv_twntynine   -14.7010      1.748     -8.412      0.000     -18.130     -11.272\n",
      "thrtyfiv_thrtynine    29.9823      1.217     24.635      0.000      27.594      32.370\n",
      "RTE_CHL                0.0073      0.001     11.593      0.000       0.006       0.009\n",
      "==============================================================================\n",
      "Omnibus:                      585.483   Durbin-Watson:                   1.825\n",
      "Prob(Omnibus):                  0.000   Jarque-Bera (JB):             5251.305\n",
      "Skew:                           2.150   Prob(JB):                         0.00\n",
      "Kurtosis:                      12.505   Cond. No.                     2.98e+18\n",
      "==============================================================================\n",
      "\n",
      "Warnings:\n",
      "[1] Standard Errors assume that the covariance matrix of the errors is correctly specified.\n",
      "[2] The smallest eigenvalue is 6.72e-28. This might indicate that there are\n",
      "strong multicollinearity problems or that the design matrix is singular.\n",
      "                            OLS Regression Results                            \n",
      "==============================================================================\n",
      "Dep. Variable:              DEATH_RTE   R-squared:                       0.417\n",
      "Model:                            OLS   Adj. R-squared:                  0.414\n",
      "Method:                 Least Squares   F-statistic:                     205.8\n",
      "Date:                Wed, 17 Feb 2021   Prob (F-statistic):          3.16e-133\n",
      "Time:                        11:16:06   Log-Likelihood:                -4652.4\n",
      "No. Observations:                1158   AIC:                             9315.\n",
      "Df Residuals:                    1153   BIC:                             9340.\n",
      "Df Model:                           4                                         \n",
      "Covariance Type:            nonrobust                                         \n",
      "======================================================================================\n",
      "                         coef    std err          t      P>|t|      [0.025      0.975]\n",
      "--------------------------------------------------------------------------------------\n",
      "Intercept             13.8410      0.957     14.464      0.000      11.963      15.719\n",
      "fifteen_nineteen      -3.2426      3.421     -0.948      0.343      -9.955       3.470\n",
      "twnty_twntyfour       -3.6841      1.045     -3.525      0.000      -5.735      -1.633\n",
      "twntyfiv_twntynine    -5.4161      1.203     -4.503      0.000      -7.776      -3.056\n",
      "thrtyfiv_thrtynine    26.1838      1.093     23.949      0.000      24.039      28.329\n",
      "RTE_GON                0.0205      0.002     11.319      0.000       0.017       0.024\n",
      "==============================================================================\n",
      "Omnibus:                      590.312   Durbin-Watson:                   1.770\n",
      "Prob(Omnibus):                  0.000   Jarque-Bera (JB):             5307.123\n",
      "Skew:                           2.172   Prob(JB):                         0.00\n",
      "Kurtosis:                      12.545   Cond. No.                     5.72e+17\n",
      "==============================================================================\n",
      "\n",
      "Warnings:\n",
      "[1] Standard Errors assume that the covariance matrix of the errors is correctly specified.\n",
      "[2] The smallest eigenvalue is 6.71e-28. This might indicate that there are\n",
      "strong multicollinearity problems or that the design matrix is singular.\n",
      "                            OLS Regression Results                            \n",
      "==============================================================================\n",
      "Dep. Variable:              DEATH_RTE   R-squared:                       0.364\n",
      "Model:                            OLS   Adj. R-squared:                  0.362\n",
      "Method:                 Least Squares   F-statistic:                     165.2\n",
      "Date:                Wed, 17 Feb 2021   Prob (F-statistic):          7.65e-112\n",
      "Time:                        11:16:06   Log-Likelihood:                -4702.0\n",
      "No. Observations:                1158   AIC:                             9414.\n",
      "Df Residuals:                    1153   BIC:                             9439.\n",
      "Df Model:                           4                                         \n",
      "Covariance Type:            nonrobust                                         \n",
      "======================================================================================\n",
      "                         coef    std err          t      P>|t|      [0.025      0.975]\n",
      "--------------------------------------------------------------------------------------\n",
      "Intercept             20.6637      1.083     19.075      0.000      18.538      22.789\n",
      "fifteen_nineteen      -6.5565      3.580     -1.831      0.067     -13.580       0.467\n",
      "twnty_twntyfour        0.4159      1.150      0.362      0.718      -1.840       2.672\n",
      "twntyfiv_twntynine     4.0792      1.173      3.477      0.001       1.777       6.381\n",
      "thrtyfiv_thrtynine    22.7251      1.099     20.669      0.000      20.568      24.882\n",
      "PRC_BLK              -42.6041      8.889     -4.793      0.000     -60.045     -25.164\n",
      "==============================================================================\n",
      "Omnibus:                      693.712   Durbin-Watson:                   1.590\n",
      "Prob(Omnibus):                  0.000   Jarque-Bera (JB):             8500.345\n",
      "Skew:                           2.560   Prob(JB):                         0.00\n",
      "Kurtosis:                      15.246   Cond. No.                     1.54e+15\n",
      "==============================================================================\n",
      "\n",
      "Warnings:\n",
      "[1] Standard Errors assume that the covariance matrix of the errors is correctly specified.\n",
      "[2] The smallest eigenvalue is 6.53e-28. This might indicate that there are\n",
      "strong multicollinearity problems or that the design matrix is singular.\n",
      "                            OLS Regression Results                            \n",
      "==============================================================================\n",
      "Dep. Variable:              DEATH_RTE   R-squared:                       0.388\n",
      "Model:                            OLS   Adj. R-squared:                  0.386\n",
      "Method:                 Least Squares   F-statistic:                     182.8\n",
      "Date:                Wed, 17 Feb 2021   Prob (F-statistic):          2.39e-121\n",
      "Time:                        11:16:06   Log-Likelihood:                -4679.9\n",
      "No. Observations:                1158   AIC:                             9370.\n",
      "Df Residuals:                    1153   BIC:                             9395.\n",
      "Df Model:                           4                                         \n",
      "Covariance Type:            nonrobust                                         \n",
      "======================================================================================\n",
      "                         coef    std err          t      P>|t|      [0.025      0.975]\n",
      "--------------------------------------------------------------------------------------\n",
      "Intercept             25.6804      1.301     19.742      0.000      23.128      28.233\n",
      "fifteen_nineteen     -10.4653      3.559     -2.940      0.003     -17.449      -3.482\n",
      "twnty_twntyfour        1.6941      1.124      1.507      0.132      -0.511       3.900\n",
      "twntyfiv_twntynine    10.5002      1.488      7.057      0.000       7.581      13.419\n",
      "thrtyfiv_thrtynine    23.9513      1.086     22.045      0.000      21.820      26.083\n",
      "PRC_WHT             -146.3364     17.667     -8.283      0.000    -181.000    -111.673\n",
      "==============================================================================\n",
      "Omnibus:                      650.719   Durbin-Watson:                   1.465\n",
      "Prob(Omnibus):                  0.000   Jarque-Bera (JB):             6867.688\n",
      "Skew:                           2.404   Prob(JB):                         0.00\n",
      "Kurtosis:                      13.919   Cond. No.                     1.54e+15\n",
      "==============================================================================\n",
      "\n",
      "Warnings:\n",
      "[1] Standard Errors assume that the covariance matrix of the errors is correctly specified.\n",
      "[2] The smallest eigenvalue is 6.5e-28. This might indicate that there are\n",
      "strong multicollinearity problems or that the design matrix is singular.\n",
      "                            OLS Regression Results                            \n",
      "==============================================================================\n",
      "Dep. Variable:              DEATH_RTE   R-squared:                       0.353\n",
      "Model:                            OLS   Adj. R-squared:                  0.351\n",
      "Method:                 Least Squares   F-statistic:                     157.2\n",
      "Date:                Wed, 17 Feb 2021   Prob (F-statistic):          2.22e-107\n",
      "Time:                        11:16:06   Log-Likelihood:                -4712.3\n",
      "No. Observations:                1158   AIC:                             9435.\n",
      "Df Residuals:                    1153   BIC:                             9460.\n",
      "Df Model:                           4                                         \n",
      "Covariance Type:            nonrobust                                         \n",
      "======================================================================================\n",
      "                         coef    std err          t      P>|t|      [0.025      0.975]\n",
      "--------------------------------------------------------------------------------------\n",
      "Intercept             19.0106      1.180     16.109      0.000      16.695      21.326\n",
      "fifteen_nineteen      -5.5961      3.615     -1.548      0.122     -12.690       1.498\n",
      "twnty_twntyfour       -0.9207      1.168     -0.788      0.431      -3.213       1.372\n",
      "twntyfiv_twntynine     2.6766      1.251      2.140      0.033       0.223       5.130\n",
      "thrtyfiv_thrtynine    22.8508      1.109     20.605      0.000      20.675      25.027\n",
      "PRC_HISP             -14.6902     10.056     -1.461      0.144     -34.420       5.039\n",
      "==============================================================================\n",
      "Omnibus:                      690.199   Durbin-Watson:                   1.591\n",
      "Prob(Omnibus):                  0.000   Jarque-Bera (JB):             8289.338\n",
      "Skew:                           2.550   Prob(JB):                         0.00\n",
      "Kurtosis:                      15.074   Cond. No.                     1.55e+15\n",
      "==============================================================================\n",
      "\n",
      "Warnings:\n",
      "[1] Standard Errors assume that the covariance matrix of the errors is correctly specified.\n",
      "[2] The smallest eigenvalue is 6.47e-28. This might indicate that there are\n",
      "strong multicollinearity problems or that the design matrix is singular.\n"
     ]
    },
    {
     "name": "stdout",
     "output_type": "stream",
     "text": [
      "                            OLS Regression Results                            \n",
      "==============================================================================\n",
      "Dep. Variable:              DEATH_RTE   R-squared:                       0.352\n",
      "Model:                            OLS   Adj. R-squared:                  0.350\n",
      "Method:                 Least Squares   F-statistic:                     156.7\n",
      "Date:                Wed, 17 Feb 2021   Prob (F-statistic):          4.16e-107\n",
      "Time:                        11:16:06   Log-Likelihood:                -4713.0\n",
      "No. Observations:                1158   AIC:                             9436.\n",
      "Df Residuals:                    1153   BIC:                             9461.\n",
      "Df Model:                           4                                         \n",
      "Covariance Type:            nonrobust                                         \n",
      "======================================================================================\n",
      "                         coef    std err          t      P>|t|      [0.025      0.975]\n",
      "--------------------------------------------------------------------------------------\n",
      "Intercept             17.5012      1.051     16.650      0.000      15.439      19.564\n",
      "fifteen_nineteen      -4.9208      3.605     -1.365      0.173     -11.995       2.153\n",
      "twnty_twntyfour       -1.8155      1.117     -1.625      0.104      -4.007       0.376\n",
      "twntyfiv_twntynine     1.3736      1.150      1.194      0.233      -0.883       3.630\n",
      "thrtyfiv_thrtynine    22.8639      1.110     20.605      0.000      20.687      25.041\n",
      "PRC_OTHER              5.6935      6.096      0.934      0.351      -6.268      17.655\n",
      "==============================================================================\n",
      "Omnibus:                      695.215   Durbin-Watson:                   1.599\n",
      "Prob(Omnibus):                  0.000   Jarque-Bera (JB):             8496.637\n",
      "Skew:                           2.569   Prob(JB):                         0.00\n",
      "Kurtosis:                      15.235   Cond. No.                     1.55e+15\n",
      "==============================================================================\n",
      "\n",
      "Warnings:\n",
      "[1] Standard Errors assume that the covariance matrix of the errors is correctly specified.\n",
      "[2] The smallest eigenvalue is 6.52e-28. This might indicate that there are\n",
      "strong multicollinearity problems or that the design matrix is singular.\n"
     ]
    }
   ],
   "source": [
    "OLS(features)"
   ]
  },
  {
   "cell_type": "markdown",
   "metadata": {},
   "source": [
    "### Baseline Fixed Effects Model"
   ]
  },
  {
   "cell_type": "code",
   "execution_count": 11,
   "metadata": {},
   "outputs": [],
   "source": [
    "#convert year to datetime\n",
    "df['YEAR'] = pd.to_datetime(df['YEAR'], format='%Y')\n",
    "#add column year to index\n",
    "df=df.set_index('YEAR', append=True)\n",
    "#swap indexes\n",
    "df.index = df.index.swaplevel(0,1)"
   ]
  },
  {
   "cell_type": "code",
   "execution_count": 14,
   "metadata": {},
   "outputs": [],
   "source": [
    "baseline_features = ['LESS_HS',\n",
    "       'HS', 'SOM_COL', 'COL_PLUS', 'RTE_CHL', 'RTE_GON', 'PRC_BLK', 'PRC_WHT',\n",
    "       'PRC_HISP', 'fifteen_nineteen', 'twnty_twntyfour',\n",
    "       'twntyfiv_twntynine', 'thrtyfiv_thrtynine']"
   ]
  },
  {
   "cell_type": "code",
   "execution_count": 15,
   "metadata": {},
   "outputs": [
    {
     "name": "stdout",
     "output_type": "stream",
     "text": [
      "                          PanelOLS Estimation Summary                           \n",
      "================================================================================\n",
      "Dep. Variable:              DEATH_RTE   R-squared:                        0.4757\n",
      "Estimator:                   PanelOLS   R-squared (Between):             -0.7271\n",
      "No. Observations:                1158   R-squared (Within):               0.4757\n",
      "Date:                Wed, Feb 17 2021   R-squared (Overall):              0.4670\n",
      "Time:                        10:56:14   Log-likelihood                   -4586.1\n",
      "Cov. Estimator:            Unadjusted                                           \n",
      "                                        F-statistic:                      85.827\n",
      "Entities:                          11   P-value                           0.0000\n",
      "Avg Obs:                       105.27   Distribution:                 F(12,1135)\n",
      "Min Obs:                       101.00                                           \n",
      "Max Obs:                       111.00   F-statistic (robust):             359.51\n",
      "                                        P-value                           0.0000\n",
      "Time periods:                    1158   Distribution:                 F(12,1135)\n",
      "Avg Obs:                       1.0000                                           \n",
      "Min Obs:                       1.0000                                           \n",
      "Max Obs:                       1.0000                                           \n",
      "                                                                                \n",
      "                                 Parameter Estimates                                  \n",
      "======================================================================================\n",
      "                    Parameter  Std. Err.     T-stat    P-value    Lower CI    Upper CI\n",
      "--------------------------------------------------------------------------------------\n",
      "LESS_HS               -4.0057     9.9592    -0.4022     0.6876     -23.546      15.535\n",
      "HS                     32.218     8.7269     3.6919     0.0002      15.096      49.341\n",
      "SOM_COL                22.355     31.768     0.7037     0.4818     -39.975      84.686\n",
      "COL_PLUS              -9.5007     11.461    -0.8290     0.4073     -31.987      12.986\n",
      "RTE_CHL                0.0018     0.0013     1.4122     0.1582     -0.0007      0.0044\n",
      "RTE_GON                0.0168     0.0038     4.4423     0.0000      0.0094      0.0242\n",
      "PRC_BLK               -17.700     9.2423    -1.9151     0.0557     -35.834      0.4343\n",
      "PRC_WHT               -188.99     32.336    -5.8444     0.0000     -252.43     -125.54\n",
      "PRC_HISP               25.026     11.195     2.2355     0.0256      3.0610      46.991\n",
      "fifteen_nineteen       14.757     6.1480     2.4003     0.0165      2.6942      26.819\n",
      "twnty_twntyfour        17.573     2.3310     7.5388     0.0000      12.999      22.146\n",
      "twntyfiv_twntynine     18.852     3.9209     4.8081     0.0000      11.159      26.545\n",
      "thrtyfiv_thrtynine     49.013     1.3675     35.842     0.0000      46.330      51.696\n",
      "======================================================================================\n",
      "\n",
      "F-test for Poolability: 2.6018\n",
      "P-value: 0.0040\n",
      "Distribution: F(10,1135)\n",
      "\n",
      "Included effects: Entity\n"
     ]
    }
   ],
   "source": [
    "model_fe = PanelOLS(df.DEATH_RTE, df[baseline_features], entity_effects = True)\n",
    "fe_res = model_fe.fit()\n",
    "print(fe_res)"
   ]
  },
  {
   "cell_type": "markdown",
   "metadata": {},
   "source": [
    "### Creating a function to iterate through our features one by one to control for age (FE model) "
   ]
  },
  {
   "cell_type": "code",
   "execution_count": 18,
   "metadata": {},
   "outputs": [],
   "source": [
    "features = ['LESS_HS', 'HS','SOM_COL', 'COL_PLUS', 'RTE_CHL', 'RTE_GON', 'PRC_BLK', 'PRC_WHT','PRC_HISP', 'PRC_OTHER']"
   ]
  },
  {
   "cell_type": "code",
   "execution_count": 22,
   "metadata": {},
   "outputs": [],
   "source": [
    "def FE(features):\n",
    "    for feature in features:\n",
    "        model_fe = PanelOLS(df.DEATH_RTE, df[['fifteen_nineteen', 'twnty_twntyfour','twntyfiv_twntynine', 'thrtyfiv_thrtynine',feature]], entity_effects = True)\n",
    "        fe_res = model_fe.fit()\n",
    "        print(fe_res)"
   ]
  },
  {
   "cell_type": "code",
   "execution_count": 24,
   "metadata": {},
   "outputs": [
    {
     "name": "stdout",
     "output_type": "stream",
     "text": [
      "                          PanelOLS Estimation Summary                           \n",
      "================================================================================\n",
      "Dep. Variable:              DEATH_RTE   R-squared:                        0.3575\n",
      "Estimator:                   PanelOLS   R-squared (Between):              0.0799\n",
      "No. Observations:                1158   R-squared (Within):               0.3575\n",
      "Date:                Wed, Feb 17 2021   R-squared (Overall):              0.3554\n",
      "Time:                        11:26:38   Log-likelihood                   -4703.9\n",
      "Cov. Estimator:            Unadjusted                                           \n",
      "                                        F-statistic:                      158.97\n",
      "Entities:                          11   P-value                           0.0000\n",
      "Avg Obs:                       105.27   Distribution:                  F(4,1143)\n",
      "Min Obs:                       101.00                                           \n",
      "Max Obs:                       111.00   F-statistic (robust):             833.61\n",
      "                                        P-value                           0.0000\n",
      "Time periods:                    1158   Distribution:                  F(4,1143)\n",
      "Avg Obs:                       1.0000                                           \n",
      "Min Obs:                       1.0000                                           \n",
      "Max Obs:                       1.0000                                           \n",
      "                                                                                \n",
      "                                 Parameter Estimates                                  \n",
      "======================================================================================\n",
      "                    Parameter  Std. Err.     T-stat    P-value    Lower CI    Upper CI\n",
      "--------------------------------------------------------------------------------------\n",
      "fifteen_nineteen       13.284     4.4935     2.9564     0.0032      4.4680      22.101\n",
      "twnty_twntyfour        20.532     1.8833     10.902     0.0000      16.836      24.227\n",
      "twntyfiv_twntynine     23.022     1.5691     14.672     0.0000      19.943      26.101\n",
      "thrtyfiv_thrtynine     42.229     0.9746     43.328     0.0000      40.316      44.141\n",
      "LESS_HS               -23.337     9.8404    -2.3715     0.0179     -42.644     -4.0297\n",
      "======================================================================================\n",
      "\n",
      "F-test for Poolability: 1.2124\n",
      "P-value: 0.2782\n",
      "Distribution: F(10,1143)\n",
      "\n",
      "Included effects: Entity\n",
      "                          PanelOLS Estimation Summary                           \n",
      "================================================================================\n",
      "Dep. Variable:              DEATH_RTE   R-squared:                        0.3545\n",
      "Estimator:                   PanelOLS   R-squared (Between):             -0.0269\n",
      "No. Observations:                1158   R-squared (Within):               0.3545\n",
      "Date:                Wed, Feb 17 2021   R-squared (Overall):              0.3517\n",
      "Time:                        11:26:38   Log-likelihood                   -4706.6\n",
      "Cov. Estimator:            Unadjusted                                           \n",
      "                                        F-statistic:                      156.91\n",
      "Entities:                          11   P-value                           0.0000\n",
      "Avg Obs:                       105.27   Distribution:                  F(4,1143)\n",
      "Min Obs:                       101.00                                           \n",
      "Max Obs:                       111.00   F-statistic (robust):             828.42\n",
      "                                        P-value                           0.0000\n",
      "Time periods:                    1158   Distribution:                  F(4,1143)\n",
      "Avg Obs:                       1.0000                                           \n",
      "Min Obs:                       1.0000                                           \n",
      "Max Obs:                       1.0000                                           \n",
      "                                                                                \n",
      "                                 Parameter Estimates                                  \n",
      "======================================================================================\n",
      "                    Parameter  Std. Err.     T-stat    P-value    Lower CI    Upper CI\n",
      "--------------------------------------------------------------------------------------\n",
      "fifteen_nineteen       12.923     4.5117     2.8643     0.0043      4.0705      21.775\n",
      "twnty_twntyfour        15.816     1.2777     12.378     0.0000      13.309      18.322\n",
      "twntyfiv_twntynine     19.078     1.3152     14.506     0.0000      16.497      21.658\n",
      "thrtyfiv_thrtynine     40.592     0.8830     45.971     0.0000      38.859      42.324\n",
      "HS                     4.8190     8.8420     0.5450     0.5858     -12.529      22.167\n",
      "======================================================================================\n",
      "\n",
      "F-test for Poolability: 1.3433\n",
      "P-value: 0.2021\n",
      "Distribution: F(10,1143)\n",
      "\n",
      "Included effects: Entity\n",
      "                          PanelOLS Estimation Summary                           \n",
      "================================================================================\n",
      "Dep. Variable:              DEATH_RTE   R-squared:                        0.3745\n",
      "Estimator:                   PanelOLS   R-squared (Between):              0.1938\n",
      "No. Observations:                1158   R-squared (Within):               0.3745\n",
      "Date:                Wed, Feb 17 2021   R-squared (Overall):              0.3732\n",
      "Time:                        11:26:38   Log-likelihood                   -4688.4\n",
      "Cov. Estimator:            Unadjusted                                           \n",
      "                                        F-statistic:                      171.07\n",
      "Entities:                          11   P-value                           0.0000\n",
      "Avg Obs:                       105.27   Distribution:                  F(4,1143)\n",
      "Min Obs:                       101.00                                           \n",
      "Max Obs:                       111.00   F-statistic (robust):             864.05\n",
      "                                        P-value                           0.0000\n",
      "Time periods:                    1158   Distribution:                  F(4,1143)\n",
      "Avg Obs:                       1.0000                                           \n",
      "Min Obs:                       1.0000                                           \n",
      "Max Obs:                       1.0000                                           \n",
      "                                                                                \n",
      "                                 Parameter Estimates                                  \n",
      "======================================================================================\n",
      "                    Parameter  Std. Err.     T-stat    P-value    Lower CI    Upper CI\n",
      "--------------------------------------------------------------------------------------\n",
      "fifteen_nineteen       14.411     4.4382     3.2470     0.0012      5.7028      23.119\n",
      "twnty_twntyfour        24.167     1.4590     16.564     0.0000      21.304      27.029\n",
      "twntyfiv_twntynine     35.037     2.6198     13.374     0.0000      29.897      40.177\n",
      "thrtyfiv_thrtynine     46.651     1.2264     38.040     0.0000      44.245      49.057\n",
      "SOM_COL               -122.97     20.254    -6.0715     0.0000     -162.71     -83.232\n",
      "======================================================================================\n",
      "\n",
      "F-test for Poolability: 1.0866\n",
      "P-value: 0.3691\n",
      "Distribution: F(10,1143)\n",
      "\n",
      "Included effects: Entity\n",
      "                          PanelOLS Estimation Summary                           \n",
      "================================================================================\n",
      "Dep. Variable:              DEATH_RTE   R-squared:                        0.3667\n",
      "Estimator:                   PanelOLS   R-squared (Between):              0.0993\n",
      "No. Observations:                1158   R-squared (Within):               0.3667\n",
      "Date:                Wed, Feb 17 2021   R-squared (Overall):              0.3647\n",
      "Time:                        11:26:38   Log-likelihood                   -4695.5\n",
      "Cov. Estimator:            Unadjusted                                           \n",
      "                                        F-statistic:                      165.44\n",
      "Entities:                          11   P-value                           0.0000\n",
      "Avg Obs:                       105.27   Distribution:                  F(4,1143)\n",
      "Min Obs:                       101.00                                           \n",
      "Max Obs:                       111.00   F-statistic (robust):             849.90\n",
      "                                        P-value                           0.0000\n",
      "Time periods:                    1158   Distribution:                  F(4,1143)\n",
      "Avg Obs:                       1.0000                                           \n",
      "Min Obs:                       1.0000                                           \n",
      "Max Obs:                       1.0000                                           \n",
      "                                                                                \n",
      "                                 Parameter Estimates                                  \n",
      "======================================================================================\n",
      "                    Parameter  Std. Err.     T-stat    P-value    Lower CI    Upper CI\n",
      "--------------------------------------------------------------------------------------\n",
      "fifteen_nineteen       34.098     6.2987     5.4135     0.0000      21.740      46.456\n",
      "twnty_twntyfour        17.925     0.7752     23.124     0.0000      16.404      19.446\n",
      "twntyfiv_twntynine     24.505     1.2312     19.905     0.0000      22.090      26.921\n",
      "thrtyfiv_thrtynine     44.939     1.1611     38.705     0.0000      42.661      47.217\n",
      "COL_PLUS              -51.672     10.931    -4.7269     0.0000     -73.120     -30.224\n",
      "======================================================================================\n",
      "\n",
      "F-test for Poolability: 1.2040\n",
      "P-value: 0.2838\n",
      "Distribution: F(10,1143)\n",
      "\n",
      "Included effects: Entity\n",
      "                          PanelOLS Estimation Summary                           \n",
      "================================================================================\n",
      "Dep. Variable:              DEATH_RTE   R-squared:                        0.4232\n",
      "Estimator:                   PanelOLS   R-squared (Between):             -0.1125\n",
      "No. Observations:                1158   R-squared (Within):               0.4232\n",
      "Date:                Wed, Feb 17 2021   R-squared (Overall):              0.4193\n",
      "Time:                        11:26:38   Log-likelihood                   -4641.4\n",
      "Cov. Estimator:            Unadjusted                                           \n",
      "                                        F-statistic:                      209.67\n",
      "Entities:                          11   P-value                           0.0000\n",
      "Avg Obs:                       105.27   Distribution:                  F(4,1143)\n",
      "Min Obs:                       101.00                                           \n",
      "Max Obs:                       111.00   F-statistic (robust):             961.21\n",
      "                                        P-value                           0.0000\n",
      "Time periods:                    1158   Distribution:                  F(4,1143)\n",
      "Avg Obs:                       1.0000                                           \n",
      "Min Obs:                       1.0000                                           \n",
      "Max Obs:                       1.0000                                           \n",
      "                                                                                \n",
      "                                 Parameter Estimates                                  \n",
      "======================================================================================\n",
      "                    Parameter  Std. Err.     T-stat    P-value    Lower CI    Upper CI\n",
      "--------------------------------------------------------------------------------------\n",
      "fifteen_nineteen       8.7048     4.2729     2.0372     0.0419      0.3212      17.088\n",
      "twnty_twntyfour        5.7576     1.1314     5.0887     0.0000      3.5376      7.9775\n",
      "twntyfiv_twntynine    -5.1047     2.2212    -2.2981     0.0217     -9.4629     -0.7466\n",
      "thrtyfiv_thrtynine     39.917     0.7368     54.174     0.0000      38.472      41.363\n",
      "RTE_CHL                0.0074     0.0006     11.686     0.0000      0.0062      0.0086\n",
      "======================================================================================\n",
      "\n",
      "F-test for Poolability: 1.6205\n",
      "P-value: 0.0955\n",
      "Distribution: F(10,1143)\n",
      "\n",
      "Included effects: Entity\n"
     ]
    },
    {
     "name": "stdout",
     "output_type": "stream",
     "text": [
      "                          PanelOLS Estimation Summary                           \n",
      "================================================================================\n",
      "Dep. Variable:              DEATH_RTE   R-squared:                        0.4258\n",
      "Estimator:                   PanelOLS   R-squared (Between):             -0.8822\n",
      "No. Observations:                1158   R-squared (Within):               0.4258\n",
      "Date:                Wed, Feb 17 2021   R-squared (Overall):              0.4163\n",
      "Time:                        11:26:38   Log-likelihood                   -4638.8\n",
      "Cov. Estimator:            Unadjusted                                           \n",
      "                                        F-statistic:                      211.89\n",
      "Entities:                          11   P-value                           0.0000\n",
      "Avg Obs:                       105.27   Distribution:                  F(4,1143)\n",
      "Min Obs:                       101.00                                           \n",
      "Max Obs:                       111.00   F-statistic (robust):             966.79\n",
      "                                        P-value                           0.0000\n",
      "Time periods:                    1158   Distribution:                  F(4,1143)\n",
      "Avg Obs:                       1.0000                                           \n",
      "Min Obs:                       1.0000                                           \n",
      "Max Obs:                       1.0000                                           \n",
      "                                                                                \n",
      "                                 Parameter Estimates                                  \n",
      "======================================================================================\n",
      "                    Parameter  Std. Err.     T-stat    P-value    Lower CI    Upper CI\n",
      "--------------------------------------------------------------------------------------\n",
      "fifteen_nineteen       10.541     4.2523     2.4790     0.0133      2.1982      18.885\n",
      "twnty_twntyfour        9.7680     0.8708     11.218     0.0000      8.0595      11.476\n",
      "twntyfiv_twntynine     7.7010     1.2004     6.4151     0.0000      5.3456      10.056\n",
      "thrtyfiv_thrtynine     39.984     0.7345     54.438     0.0000      38.543      41.426\n",
      "RTE_GON                0.0217     0.0018     11.929     0.0000      0.0182      0.0253\n",
      "======================================================================================\n",
      "\n",
      "F-test for Poolability: 2.7102\n",
      "P-value: 0.0027\n",
      "Distribution: F(10,1143)\n",
      "\n",
      "Included effects: Entity\n",
      "                          PanelOLS Estimation Summary                           \n",
      "================================================================================\n",
      "Dep. Variable:              DEATH_RTE   R-squared:                        0.3660\n",
      "Estimator:                   PanelOLS   R-squared (Between):              0.1332\n",
      "No. Observations:                1158   R-squared (Within):               0.3660\n",
      "Date:                Wed, Feb 17 2021   R-squared (Overall):              0.3643\n",
      "Time:                        11:26:39   Log-likelihood                   -4696.1\n",
      "Cov. Estimator:            Unadjusted                                           \n",
      "                                        F-statistic:                      164.98\n",
      "Entities:                          11   P-value                           0.0000\n",
      "Avg Obs:                       105.27   Distribution:                  F(4,1143)\n",
      "Min Obs:                       101.00                                           \n",
      "Max Obs:                       111.00   F-statistic (robust):             848.74\n",
      "                                        P-value                           0.0000\n",
      "Time periods:                    1158   Distribution:                  F(4,1143)\n",
      "Avg Obs:                       1.0000                                           \n",
      "Min Obs:                       1.0000                                           \n",
      "Max Obs:                       1.0000                                           \n",
      "                                                                                \n",
      "                                 Parameter Estimates                                  \n",
      "======================================================================================\n",
      "                    Parameter  Std. Err.     T-stat    P-value    Lower CI    Upper CI\n",
      "--------------------------------------------------------------------------------------\n",
      "fifteen_nineteen       14.015     4.4672     3.1373     0.0017      5.2502      22.780\n",
      "twnty_twntyfour        21.001     1.2247     17.147     0.0000      18.598      23.404\n",
      "twntyfiv_twntynine     24.649     1.2812     19.240     0.0000      22.135      27.163\n",
      "thrtyfiv_thrtynine     43.343     0.9438     45.926     0.0000      41.492      45.195\n",
      "PRC_BLK               -41.843     9.0986    -4.5988     0.0000     -59.695     -23.991\n",
      "======================================================================================\n",
      "\n",
      "F-test for Poolability: 1.1581\n",
      "P-value: 0.3154\n",
      "Distribution: F(10,1143)\n",
      "\n",
      "Included effects: Entity\n",
      "                          PanelOLS Estimation Summary                           \n",
      "================================================================================\n",
      "Dep. Variable:              DEATH_RTE   R-squared:                        0.3902\n",
      "Estimator:                   PanelOLS   R-squared (Between):              0.0961\n",
      "No. Observations:                1158   R-squared (Within):               0.3902\n",
      "Date:                Wed, Feb 17 2021   R-squared (Overall):              0.3881\n",
      "Time:                        11:26:39   Log-likelihood                   -4673.7\n",
      "Cov. Estimator:            Unadjusted                                           \n",
      "                                        F-statistic:                      182.82\n",
      "Entities:                          11   P-value                           0.0000\n",
      "Avg Obs:                       105.27   Distribution:                  F(4,1143)\n",
      "Min Obs:                       101.00                                           \n",
      "Max Obs:                       111.00   F-statistic (robust):             893.64\n",
      "                                        P-value                           0.0000\n",
      "Time periods:                    1158   Distribution:                  F(4,1143)\n",
      "Avg Obs:                       1.0000                                           \n",
      "Min Obs:                       1.0000                                           \n",
      "Max Obs:                       1.0000                                           \n",
      "                                                                                \n",
      "                                 Parameter Estimates                                  \n",
      "======================================================================================\n",
      "                    Parameter  Std. Err.     T-stat    P-value    Lower CI    Upper CI\n",
      "--------------------------------------------------------------------------------------\n",
      "fifteen_nineteen       14.972     4.3829     3.4160     0.0007      6.3723      23.571\n",
      "twnty_twntyfour        27.656     1.5375     17.987     0.0000      24.639      30.672\n",
      "twntyfiv_twntynine     36.592     2.1702     16.861     0.0000      32.334      40.850\n",
      "thrtyfiv_thrtynine     49.857     1.3349     37.350     0.0000      47.238      52.476\n",
      "PRC_WHT               -150.00     18.295    -8.1993     0.0000     -185.90     -114.11\n",
      "======================================================================================\n",
      "\n",
      "F-test for Poolability: 1.2444\n",
      "P-value: 0.2579\n",
      "Distribution: F(10,1143)\n",
      "\n",
      "Included effects: Entity\n",
      "                          PanelOLS Estimation Summary                           \n",
      "================================================================================\n",
      "Dep. Variable:              DEATH_RTE   R-squared:                        0.3550\n",
      "Estimator:                   PanelOLS   R-squared (Between):              0.0631\n",
      "No. Observations:                1158   R-squared (Within):               0.3550\n",
      "Date:                Wed, Feb 17 2021   R-squared (Overall):              0.3528\n",
      "Time:                        11:26:39   Log-likelihood                   -4706.2\n",
      "Cov. Estimator:            Unadjusted                                           \n",
      "                                        F-statistic:                      157.24\n",
      "Entities:                          11   P-value                           0.0000\n",
      "Avg Obs:                       105.27   Distribution:                  F(4,1143)\n",
      "Min Obs:                       101.00                                           \n",
      "Max Obs:                       111.00   F-statistic (robust):             829.26\n",
      "                                        P-value                           0.0000\n",
      "Time periods:                    1158   Distribution:                  F(4,1143)\n",
      "Avg Obs:                       1.0000                                           \n",
      "Min Obs:                       1.0000                                           \n",
      "Max Obs:                       1.0000                                           \n",
      "                                                                                \n",
      "                                 Parameter Estimates                                  \n",
      "======================================================================================\n",
      "                    Parameter  Std. Err.     T-stat    P-value    Lower CI    Upper CI\n",
      "--------------------------------------------------------------------------------------\n",
      "fifteen_nineteen       13.398     4.5113     2.9699     0.0030      4.5466      22.249\n",
      "twnty_twntyfour        17.735     1.4328     12.377     0.0000      14.923      20.546\n",
      "twntyfiv_twntynine     21.256     1.6148     13.163     0.0000      18.087      24.424\n",
      "thrtyfiv_thrtynine     41.648     1.0900     38.209     0.0000      39.510      43.787\n",
      "PRC_HISP              -11.589     10.755    -1.0775     0.2815     -32.691      9.5132\n",
      "======================================================================================\n",
      "\n",
      "F-test for Poolability: 1.2227\n",
      "P-value: 0.2716\n",
      "Distribution: F(10,1143)\n",
      "\n",
      "Included effects: Entity\n"
     ]
    },
    {
     "name": "stdout",
     "output_type": "stream",
     "text": [
      "                          PanelOLS Estimation Summary                           \n",
      "================================================================================\n",
      "Dep. Variable:              DEATH_RTE   R-squared:                        0.3551\n",
      "Estimator:                   PanelOLS   R-squared (Between):             -0.0452\n",
      "No. Observations:                1158   R-squared (Within):               0.3551\n",
      "Date:                Wed, Feb 17 2021   R-squared (Overall):              0.3521\n",
      "Time:                        11:26:39   Log-likelihood                   -4706.0\n",
      "Cov. Estimator:            Unadjusted                                           \n",
      "                                        F-statistic:                      157.33\n",
      "Entities:                          11   P-value                           0.0000\n",
      "Avg Obs:                       105.27   Distribution:                  F(4,1143)\n",
      "Min Obs:                       101.00                                           \n",
      "Max Obs:                       111.00   F-statistic (robust):             829.48\n",
      "                                        P-value                           0.0000\n",
      "Time periods:                    1158   Distribution:                  F(4,1143)\n",
      "Avg Obs:                       1.0000                                           \n",
      "Min Obs:                       1.0000                                           \n",
      "Max Obs:                       1.0000                                           \n",
      "                                                                                \n",
      "                                 Parameter Estimates                                  \n",
      "======================================================================================\n",
      "                    Parameter  Std. Err.     T-stat    P-value    Lower CI    Upper CI\n",
      "--------------------------------------------------------------------------------------\n",
      "fifteen_nineteen       12.775     4.5081     2.8338     0.0047      3.9300      21.620\n",
      "twnty_twntyfour        15.480     1.0512     14.726     0.0000      13.418      17.543\n",
      "twntyfiv_twntynine     18.615     1.1441     16.270     0.0000      16.370      20.859\n",
      "thrtyfiv_thrtynine     40.247     0.9156     43.954     0.0000      38.450      42.043\n",
      "PRC_OTHER              7.3624     6.2397     1.1799     0.2383     -4.8803      19.605\n",
      "======================================================================================\n",
      "\n",
      "F-test for Poolability: 1.3724\n",
      "P-value: 0.1876\n",
      "Distribution: F(10,1143)\n",
      "\n",
      "Included effects: Entity\n"
     ]
    }
   ],
   "source": [
    "FE(features)"
   ]
  },
  {
   "cell_type": "markdown",
   "metadata": {},
   "source": [
    "**Visualizations**"
   ]
  },
  {
   "cell_type": "code",
   "execution_count": 31,
   "metadata": {},
   "outputs": [],
   "source": [
    "import seaborn as sns"
   ]
  },
  {
   "cell_type": "code",
   "execution_count": 26,
   "metadata": {},
   "outputs": [],
   "source": [
    "df = pd.read_csv('/Users/alexandrabruno/Documents/flatiron/data/final.csv')"
   ]
  },
  {
   "cell_type": "code",
   "execution_count": 38,
   "metadata": {},
   "outputs": [
    {
     "data": {
      "image/png": "[encoded data removed]",
      "text/plain": [
       "<Figure size 936x432 with 1 Axes>"
      ]
     },
     "metadata": {},
     "output_type": "display_data"
    }
   ],
   "source": [
    "plt.figure(figsize=(13, 6))\n",
    "fig = sns.boxplot(x=df[\"AGE\"], y=df[\"DEATH_RTE\"], data=df,palette=\"Set2\").set_title('Age')\n",
    "plt.xlabel(\"Age\",fontsize=17)\n",
    "plt.ylabel(\"Death Rate\",fontsize=17)\n",
    "plt.title(\"Maternal Death by Age Boxplot\",fontsize = 20) # You can comment this line out if you don't need title\n",
    "plt.tick_params(labelsize=15)\n",
    "plt.grid(False)\n",
    "plt.show(fig)"
   ]
  },
  {
   "cell_type": "markdown",
   "metadata": {},
   "source": [
    "**What is this graph showing us?**\n",
    "\n",
    "We can see that in the age range of 35 to 39 we see that there are a lot of instances of higher mortality rates (aligned with what we see the graph below. 35 to 39 seems to experience a more severe level of outliers in comparison to the other age groups. "
   ]
  },
  {
   "cell_type": "code",
   "execution_count": 37,
   "metadata": {},
   "outputs": [
    {
     "data": {
      "image/png": "[encoded data removed]",
      "text/plain": [
       "<Figure size 936x432 with 1 Axes>"
      ]
     },
     "metadata": {},
     "output_type": "display_data"
    }
   ],
   "source": [
    "plt.figure(figsize=(13, 6))\n",
    "fig = sns.histplot(data=df, x=\"DEATH_RTE\", hue=\"AGE\",multiple=\"stack\",palette=\"Set2\")\n",
    "plt.xlabel(\"Death Rate\",fontsize=17)\n",
    "plt.ylabel(\"Observations\",fontsize=17)\n",
    "plt.title(\"Distribution of Maternal Death: Age Groups\",fontsize = 20) # You can comment this line out if you don't need title\n",
    "plt.tick_params(labelsize=15)\n",
    "plt.grid(False)\n",
    "plt.show(fig)"
   ]
  },
  {
   "cell_type": "markdown",
   "metadata": {},
   "source": [
    "**What is this graph showing us?**\n",
    "\n",
    "In the graph above we can see that the younger age groups (20-24 & 25-29) experience lower rates of maternal mortality. We can see that the older age groups (35-39) experience higher rates of maternal mortality. This is expected because pregnancy because riskier as a woman ages. Women in their 30s are more at risk for events such as ectopic pregnancy."
   ]
  },
  {
   "cell_type": "code",
   "execution_count": 41,
   "metadata": {},
   "outputs": [
    {
     "data": {
      "text/plain": [
       "<seaborn.axisgrid.FacetGrid at 0x7ff3ef768df0>"
      ]
     },
     "execution_count": 41,
     "metadata": {},
     "output_type": "execute_result"
    },
    {
     "data": {
      "image/png": "[encoded data removed]",
      "text/plain": [
       "<Figure size 360x360 with 1 Axes>"
      ]
     },
     "metadata": {},
     "output_type": "display_data"
    }
   ],
   "source": [
    "sns.catplot(x=\"STATE\", y=\"DEATH_RTE\", kind=\"bar\", data=df)"
   ]
  },
  {
   "cell_type": "code",
   "execution_count": null,
   "metadata": {},
   "outputs": [],
   "source": []
  }
 ],
 "metadata": {
  "kernelspec": {
   "display_name": "learn-env",
   "language": "python",
   "name": "learn-env"
  },
  "language_info": {
   "codemirror_mode": {
    "name": "ipython",
    "version": 3
   },
   "file_extension": ".py",
   "mimetype": "text/x-python",
   "name": "python",
   "nbconvert_exporter": "python",
   "pygments_lexer": "ipython3",
   "version": "3.8.3"
  },
  "toc": {
   "base_numbering": 1,
   "nav_menu": {},
   "number_sections": true,
   "sideBar": true,
   "skip_h1_title": false,
   "title_cell": "Table of Contents",
   "title_sidebar": "Contents",
   "toc_cell": false,
   "toc_position": {},
   "toc_section_display": true,
   "toc_window_display": false
  }
 },
 "nbformat": 4,
 "nbformat_minor": 4
}
