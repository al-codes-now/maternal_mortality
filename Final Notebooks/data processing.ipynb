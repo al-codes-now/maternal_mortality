{
 "cells": [
  {
   "cell_type": "markdown",
   "metadata": {},
   "source": [
    "# Data processing and cleaning"
   ]
  },
  {
   "cell_type": "code",
   "execution_count": 1,
   "metadata": {},
   "outputs": [],
   "source": [
    "import pandas as pd\n",
    "import us\n",
    "import numpy as np\n",
    "from tqdm import tqdm"
   ]
  },
  {
   "cell_type": "code",
   "execution_count": 2,
   "metadata": {},
   "outputs": [
    {
     "name": "stderr",
     "output_type": "stream",
     "text": [
      "/Users/alexandrabruno/opt/anaconda3/lib/python3.8/site-packages/IPython/core/interactiveshell.py:3071: DtypeWarning: Columns (1,2,3,4,5,6,7,8,9,10) have mixed types.Specify dtype option on import or set low_memory=False.\n",
      "  has_raised = await self.run_ast_nodes(code_ast.body, cell_name,\n"
     ]
    }
   ],
   "source": [
    "# Data from Census API calls\n",
    "cen = pd.read_csv('/Users/alexandrabruno/Documents/flatiron/data/census_final.csv')"
   ]
  },
  {
   "cell_type": "markdown",
   "metadata": {},
   "source": [
    "**GIVING OUR DATAFRAME A HEADER**"
   ]
  },
  {
   "cell_type": "code",
   "execution_count": 3,
   "metadata": {},
   "outputs": [],
   "source": [
    "# Deleting Unnamed: 0 column\n",
    "del cen['Unnamed: 0']\n",
    "\n",
    "# Creating a list of our column names \n",
    "new_header = [\n",
    "    'PWGTP',\n",
    "    'AGEP',\n",
    "    'FER',\n",
    "    'SEX',\n",
    "    'RACBLK',\n",
    "    'RACWHT',\n",
    "    'RACSOR',\n",
    "    'HISP',\n",
    "    'SCHL',\n",
    "    'ST',\n",
    "    'YEAR'\n",
    "]\n",
    "\n",
    "# Setting our column names equal to our list \n",
    "cen.columns = new_header"
   ]
  },
  {
   "cell_type": "code",
   "execution_count": 4,
   "metadata": {},
   "outputs": [],
   "source": [
    "# Get indexes where name column has value PWGTP\n",
    "indexNames = cen[cen['PWGTP'] == 'PWGTP'].index\n",
    " \n",
    "# Delete these row indexes from dataFrame\n",
    "cen.drop(indexNames, inplace=True)"
   ]
  },
  {
   "cell_type": "markdown",
   "metadata": {},
   "source": [
    "**CHANGING DATA TYPES**"
   ]
  },
  {
   "cell_type": "code",
   "execution_count": 5,
   "metadata": {},
   "outputs": [],
   "source": [
    "# Change columns into the data types we need so we can use them for creating our features\n",
    "cen.FER = cen.FER.astype(int)\n",
    "cen.HISP = cen.HISP.astype(int)\n",
    "cen.RACWHT = cen.RACWHT.astype(int)\n",
    "cen.RACBLK = cen.RACBLK.astype(int)\n",
    "cen.AGEP = cen.AGEP.astype(int)\n",
    "cen.ST = cen.ST.astype(str)\n",
    "cen.SCHL = cen.SCHL.astype(int)"
   ]
  },
  {
   "cell_type": "markdown",
   "metadata": {},
   "source": [
    "**DROPPING ROWS WE DON'T NEED**\n",
    "\n",
    "We aren't interesting in all of the data within this data frame so we are going to drop the irrelevant rows"
   ]
  },
  {
   "cell_type": "code",
   "execution_count": 6,
   "metadata": {},
   "outputs": [],
   "source": [
    "# Get indexes where name column has value 0\n",
    "indexNames = cen[cen['FER'] == 0].index\n",
    " \n",
    "# Delete these row indexes from dataFrame\n",
    "cen.drop(indexNames, inplace=True)\n",
    "\n",
    "# Get indexes where name column has value 8\n",
    "indexNames = cen[cen['FER'] == 8].index\n",
    " \n",
    "# Delete these row indexes from dataFrame\n",
    "cen.drop(indexNames, inplace=True)\n",
    "\n",
    "# Get indexes where name column has value > 46\n",
    "indexNames = cen[cen['AGEP'] >= 46].index\n",
    " \n",
    "# Delete these row indexes from dataFrame\n",
    "cen.drop(indexNames, inplace=True)\n",
    "\n",
    "# Get indexes where name column has value < 14 \n",
    "indexNames = cen[cen['AGEP'] <= 14].index\n",
    " \n",
    "# Delete these row indexes from dataFrame\n",
    "cen.drop(indexNames, inplace=True)"
   ]
  },
  {
   "cell_type": "markdown",
   "metadata": {},
   "source": [
    "**CHANGING THE ROW VALUES IN OUR ST COLUMN**\n",
    "\n",
    "The census data gave the state values their fip codes and we want to change them to their state names"
   ]
  },
  {
   "cell_type": "code",
   "execution_count": 7,
   "metadata": {},
   "outputs": [],
   "source": [
    "# Creating a list of the fip codes\n",
    "fip_codes = ['1','2','4','5','6','8','9','10','11','12','13','15','16','17','18','19','20','21','22','23','24','25','26','27','28','29','30','31','32','33','34','35','36','37','38','39','40','41','42','44','45','46','47','48','49','50','51','53','54','55','56']"
   ]
  },
  {
   "cell_type": "code",
   "execution_count": 8,
   "metadata": {},
   "outputs": [],
   "source": [
    "# Creating a list of the states\n",
    "states = ['Alabama','Alaska','Arizona','Arkansas','California','Colorado',\n",
    "         'Connecticut','Delaware','District of Columbia','Florida','Georgia','Hawaii','Idaho','Illinois',\n",
    "          'Indiana','Iowa','Kansas','Kentucky','Louisiana','Maine','Maryland',\n",
    "         'Massachusetts','Michigan','Minnesota','Mississippi','Missouri','Montana',\n",
    "         'Nebraska','Nevada','New Hampshire','New Jersey','New Mexico','New York',\n",
    "         'North Carolina','North Dakota','Ohio','Oklahoma','Oregon','Pennsylvania','Rhode Island',\n",
    "          'South Carolina','South Dakota','Tennessee','Texas','Utah','Vermont','Virginia','Washington',\n",
    "          'West Virginia','Wisconsin','Wyoming']"
   ]
  },
  {
   "cell_type": "code",
   "execution_count": 9,
   "metadata": {},
   "outputs": [],
   "source": [
    "# Zipping our list into a dicitionary so we can replace the old values with the new ones \n",
    "changes = dict(zip(fip_codes,states))"
   ]
  },
  {
   "cell_type": "code",
   "execution_count": 10,
   "metadata": {},
   "outputs": [],
   "source": [
    "# Replacing the values with a lambda function \n",
    "cen['STATE'] = cen['ST'].apply(lambda x: changes[x])"
   ]
  },
  {
   "cell_type": "markdown",
   "metadata": {},
   "source": [
    "**CHANGING OUR SCHL VARIABLE**\n",
    "\n",
    "The other datasets that we plan on merging with this one have ages in categorical bins. We are going to use pd.cut to group our ages within specified ranges to match our other datasets"
   ]
  },
  {
   "cell_type": "code",
   "execution_count": 13,
   "metadata": {},
   "outputs": [],
   "source": [
    "cen['EDUC'] = pd.cut(cen.SCHL, [1,16,18,21,42], labels=['less hs','hs','som col','col or more'],right=False)"
   ]
  },
  {
   "cell_type": "code",
   "execution_count": null,
   "metadata": {},
   "outputs": [],
   "source": [
    "# Making our education variables dummies\n",
    "cen = pd.get_dummies(cen, columns=['EDUC'])"
   ]
  },
  {
   "cell_type": "code",
   "execution_count": null,
   "metadata": {},
   "outputs": [],
   "source": [
    "cen = cen.rename(columns={'EDUC_col or more': 'COLPLUS', 'EDUC_hs':'HS', 'EDUC_less hs': 'LESSHS','EDUC_som col':'SOMCOL'})"
   ]
  },
  {
   "cell_type": "markdown",
   "metadata": {},
   "source": [
    "**CHANGING OUR AGEP VARIABLE**\n",
    "\n",
    "The other datasets that we plan on merging with this one have ages in categorical bins. We are going to use pd.cut to group our ages within specified ranges to match our other datasets"
   ]
  },
  {
   "cell_type": "code",
   "execution_count": 16,
   "metadata": {},
   "outputs": [],
   "source": [
    "cen['AGE'] = pd.cut(cen.AGEP, [15,20,25,30,35,40,45], labels=['15 to 19', '20 to 24', '25 to 29','30 to 34', '35 to 39','40 to 45'],right=False)"
   ]
  },
  {
   "cell_type": "markdown",
   "metadata": {},
   "source": [
    "**TURNING OUR HISPAN VARIABLE INTO DUMMY**\n",
    "\n",
    "We are just interested in the percent of fertile respondents that are Hispanic, for that reason we are not going to be examining their Hispanic origin."
   ]
  },
  {
   "cell_type": "code",
   "execution_count": 17,
   "metadata": {},
   "outputs": [],
   "source": [
    "cen['HISPAN'] = np.where(cen['HISP']>1, 1, 0)"
   ]
  },
  {
   "cell_type": "markdown",
   "metadata": {},
   "source": [
    "**Saving the data**"
   ]
  },
  {
   "cell_type": "code",
   "execution_count": 3,
   "metadata": {},
   "outputs": [
    {
     "ename": "NameError",
     "evalue": "name 'cen' is not defined",
     "output_type": "error",
     "traceback": [
      "\u001b[0;31m---------------------------------------------------------------------------\u001b[0m",
      "\u001b[0;31mNameError\u001b[0m                                 Traceback (most recent call last)",
      "\u001b[0;32m<ipython-input-3-695873fd4801>\u001b[0m in \u001b[0;36m<module>\u001b[0;34m\u001b[0m\n\u001b[0;32m----> 1\u001b[0;31m \u001b[0mcen\u001b[0m\u001b[0;34m.\u001b[0m\u001b[0mto_csv\u001b[0m\u001b[0;34m(\u001b[0m\u001b[0;34m'/Users/alexandrabruno/Documents/flatiron/data/for_agg.csv'\u001b[0m\u001b[0;34m)\u001b[0m\u001b[0;34m\u001b[0m\u001b[0;34m\u001b[0m\u001b[0m\n\u001b[0m",
      "\u001b[0;31mNameError\u001b[0m: name 'cen' is not defined"
     ]
    }
   ],
   "source": [
    "# Saving this data so we do not have to rerun the processes above \n",
    "cen.to_csv('/Users/alexandrabruno/Documents/flatiron/data/for_agg.csv')"
   ]
  },
  {
   "cell_type": "markdown",
   "metadata": {},
   "source": [
    "**GETTING THE PERCENTAGE OF RESPONDENTS THAT ARE FERTILE FOR EACH RACIAL GROUP**\n",
    "\n",
    "We are looping through the lists below to calculate the number of respondents that are fall in each age group, in each each, and in each state and calculating the amount of them that are white, black, hispanic, or other. "
   ]
  },
  {
   "cell_type": "code",
   "execution_count": null,
   "metadata": {},
   "outputs": [],
   "source": [
    "cen = pd.read_csv('/Users/alexandrabruno/Documents/flatiron/data/for_agg.csv')\n",
    "\n",
    "states = list(cen['STATE'].unique())\n",
    "years = list(cen['YEAR'].unique())\n",
    "ages = list(cen['AGE'].unique())"
   ]
  },
  {
   "cell_type": "code",
   "execution_count": 4,
   "metadata": {},
   "outputs": [
    {
     "name": "stderr",
     "output_type": "stream",
     "text": [
      "100%|██████████| 51/51 [2:42:37<00:00, 191.33s/it]  \n"
     ]
    }
   ],
   "source": [
    "lst = []\n",
    "for state in tqdm(states):\n",
    "    for year in years:\n",
    "        perc_blk = cen.loc[(cen['YEAR']==year) & (cen['RACBLK']== 1) & (cen['STATE']== state) & (cen['AGE'] == age)]['FER'].value_counts(normalize = True)[1]\n",
    "        cen.loc[(cen['YEAR']==year) & (cen['RACBLK']== 1) & (cen['STATE']== state) & (cen['AGE'] == age), 'PRC_BLK'] = perc_blk\n",
    "            \n",
    "                except:\n",
    "                    lst.append([state,year,age]) \n",
    "                    continue "
   ]
  },
  {
   "cell_type": "code",
   "execution_count": 5,
   "metadata": {},
   "outputs": [],
   "source": [
    "cen.to_csv('/Users/alexandrabruno/Documents/flatiron/data/agg1.csv')"
   ]
  },
  {
   "cell_type": "code",
   "execution_count": 6,
   "metadata": {},
   "outputs": [
    {
     "name": "stderr",
     "output_type": "stream",
     "text": [
      "100%|██████████| 51/51 [2:58:38<00:00, 210.16s/it]  \n"
     ]
    }
   ],
   "source": [
    "lst = []\n",
    "for state in tqdm(states):\n",
    "    for year in years:\n",
    "            for age in ages:\n",
    "                try:\n",
    "                    perc_wht = cen.loc[(cen['YEAR']==year) & (cen['RACWHT']== 1) & (cen['STATE']== state) & (cen['AGE'] == age)]['FER'].value_counts(normalize = True)[1]\n",
    "                    cen.loc[(cen['YEAR']==year) & (cen['RACWHT']== 1) & (cen['STATE']== state) & (cen['AGE'] == age), 'PRC_WHT'] = perc_wht\n",
    "                except:\n",
    "                    lst.append([state,year,age]) \n",
    "                    continue "
   ]
  },
  {
   "cell_type": "code",
   "execution_count": 7,
   "metadata": {},
   "outputs": [],
   "source": [
    "cen.to_csv('/Users/alexandrabruno/Documents/flatiron/data/agg2.csv')"
   ]
  },
  {
   "cell_type": "code",
   "execution_count": 8,
   "metadata": {},
   "outputs": [
    {
     "name": "stderr",
     "output_type": "stream",
     "text": [
      "100%|██████████| 51/51 [2:45:31<00:00, 194.74s/it]  \n"
     ]
    }
   ],
   "source": [
    "lst = []\n",
    "for state in tqdm(states):\n",
    "    for year in years:\n",
    "            for age in ages:\n",
    "                try:\n",
    "                    perc_hisp = cen.loc[(cen['YEAR']==year) & (cen['HISPAN']== 1) & (cen['STATE']== state) & (cen['AGE'] == age)]['FER'].value_counts(normalize = True)[1]\n",
    "                    cen.loc[(cen['YEAR']==year) & (cen['HISPAN']== 1) & (cen['STATE']== state) & (cen['AGE'] == age), 'PRC_HISP'] = perc_hisp\n",
    "                except:\n",
    "                    lst.append([state,year,age]) \n",
    "                    continue "
   ]
  },
  {
   "cell_type": "code",
   "execution_count": 9,
   "metadata": {},
   "outputs": [],
   "source": [
    "cen.to_csv('/Users/alexandrabruno/Documents/flatiron/data/agg3.csv')"
   ]
  },
  {
   "cell_type": "code",
   "execution_count": 11,
   "metadata": {},
   "outputs": [
    {
     "name": "stderr",
     "output_type": "stream",
     "text": [
      "100%|██████████| 51/51 [2:39:49<00:00, 188.03s/it]  \n"
     ]
    }
   ],
   "source": [
    "lst = []\n",
    "for state in tqdm(states):\n",
    "    for year in years:\n",
    "            for age in ages:\n",
    "                try:\n",
    "                    perc_other = cen.loc[(cen['YEAR']==year) & (cen['RACSOR']== 1) & (cen['STATE']== state) & (cen['AGE'] == age)]['FER'].value_counts(normalize = True)[1]\n",
    "                    cen.loc[(cen['YEAR']==year) & (cen['RACSOR']== 1) & (cen['STATE']== state) & (cen['AGE'] == age), 'PRC_OTHER'] = perc_other\n",
    "                except:\n",
    "                        lst.append([state,year,age]) \n",
    "                        continue "
   ]
  },
  {
   "cell_type": "code",
   "execution_count": 12,
   "metadata": {},
   "outputs": [],
   "source": [
    "cen.to_csv('/Users/alexandrabruno/Documents/flatiron/data/agg4.csv')"
   ]
  },
  {
   "cell_type": "markdown",
   "metadata": {},
   "source": [
    "**GETTING THE PERCENTAGE OF RESPONDENTS THAT ARE FERTILE FOR EACH EDUCATIONAL GROUP**\n",
    "\n",
    "We are looping through the lists below to calculate the number of respondents that are fall in each age group, in each each, and in each state and calculating the amount of them that have less than a hs degree, a hs degree, some college education, a college degree, and more than a college degree. "
   ]
  },
  {
   "cell_type": "code",
   "execution_count": 11,
   "metadata": {},
   "outputs": [
    {
     "name": "stderr",
     "output_type": "stream",
     "text": [
      "100%|██████████| 51/51 [3:04:22<00:00, 216.92s/it]  \n"
     ]
    }
   ],
   "source": [
    "lst = []\n",
    "for state in tqdm(states):\n",
    "    for year in years:\n",
    "            for age in ages:\n",
    "                try:\n",
    "                    lesshs = cen.loc[(cen['YEAR']==year) & (cen['LESSHS']== 1) & (cen['STATE']== state) & (cen['AGE'] == age)]['FER'].value_counts(normalize = True)[1]\n",
    "                    cen.loc[(cen['YEAR']==year) & (cen['LESSHS']== 1) & (cen['STATE']== state) & (cen['AGE'] == age), 'LESS_HS'] = lesshs\n",
    "                except:\n",
    "                    lst.append([state,year,age]) \n",
    "                    continue "
   ]
  },
  {
   "cell_type": "code",
   "execution_count": 12,
   "metadata": {},
   "outputs": [],
   "source": [
    "cen.to_csv('/Users/alexandrabruno/Documents/flatiron/data/agg5.csv')"
   ]
  },
  {
   "cell_type": "code",
   "execution_count": 13,
   "metadata": {},
   "outputs": [
    {
     "name": "stderr",
     "output_type": "stream",
     "text": [
      "100%|██████████| 51/51 [2:36:46<00:00, 184.43s/it]  \n"
     ]
    }
   ],
   "source": [
    "lst = []\n",
    "for state in tqdm(states):\n",
    "    for year in years:\n",
    "            for age in ages:\n",
    "                try:\n",
    "                    hs = cen.loc[(cen['YEAR']==year) & (cen['HS']==1) & (cen['STATE']== state) & (cen['AGE'] == age)]['FER'].value_counts(normalize = True)[1]\n",
    "                    cen.loc[(cen['YEAR']==year) & (cen['HS']==1) & (cen['STATE']== state) & (cen['AGE'] == age), 'HS'] = hs\n",
    "                except:\n",
    "                    lst.append([state,year,age]) \n",
    "                    continue "
   ]
  },
  {
   "cell_type": "code",
   "execution_count": 14,
   "metadata": {},
   "outputs": [],
   "source": [
    "cen.to_csv('/Users/alexandrabruno/Documents/flatiron/data/agg6.csv')"
   ]
  },
  {
   "cell_type": "code",
   "execution_count": 15,
   "metadata": {},
   "outputs": [
    {
     "name": "stderr",
     "output_type": "stream",
     "text": [
      "100%|██████████| 51/51 [2:28:43<00:00, 174.97s/it]  \n"
     ]
    }
   ],
   "source": [
    "lst = []\n",
    "for state in tqdm(states):\n",
    "    for year in years:\n",
    "            for age in ages:\n",
    "                try:\n",
    "                    somecol = cen.loc[(cen['YEAR']==year) & (cen['SOMCOL']==1) & (cen['STATE']== state) & (cen['AGE'] == age)]['FER'].value_counts(normalize = True)[1]\n",
    "                    cen.loc[(cen['YEAR']==year) & (cen['SOMCOL']==1) & (cen['STATE']== state) & (cen['AGE'] == age), 'SOM_COL'] = somecol\n",
    "                except:\n",
    "                    lst.append([state,year,age]) \n",
    "                    continue "
   ]
  },
  {
   "cell_type": "code",
   "execution_count": 16,
   "metadata": {},
   "outputs": [],
   "source": [
    "cen.to_csv('/Users/alexandrabruno/Documents/flatiron/data/agg7.csv')"
   ]
  },
  {
   "cell_type": "code",
   "execution_count": 17,
   "metadata": {},
   "outputs": [
    {
     "name": "stderr",
     "output_type": "stream",
     "text": [
      "100%|██████████| 51/51 [2:20:50<00:00, 165.69s/it]  \n"
     ]
    }
   ],
   "source": [
    "lst = []\n",
    "for state in tqdm(states):\n",
    "    for year in years:\n",
    "            for age in ages:\n",
    "                try:\n",
    "                    colplus = cen.loc[(cen['YEAR']==year) & (cen['COLPLUS']== 1) & (cen['STATE']== state) & (cen['AGE'] == age)]['FER'].value_counts(normalize = True)[1]\n",
    "                    cen.loc[(cen['YEAR']==year) & (cen['COLPLUS']== 1) & (cen['STATE']== state) & (cen['AGE'] == age), 'COL_PLUS'] = colplus\n",
    "                except:\n",
    "                    lst.append([state,year,age]) \n",
    "                    continue "
   ]
  },
  {
   "cell_type": "code",
   "execution_count": 18,
   "metadata": {},
   "outputs": [],
   "source": [
    "cen.to_csv('/Users/alexandrabruno/Documents/flatiron/data/agg8.csv')"
   ]
  },
  {
   "cell_type": "markdown",
   "metadata": {},
   "source": [
    "**Dealing with NaN after running the cells above**"
   ]
  },
  {
   "cell_type": "markdown",
   "metadata": {},
   "source": [
    "Cleaning our races features"
   ]
  },
  {
   "cell_type": "code",
   "execution_count": null,
   "metadata": {},
   "outputs": [],
   "source": [
    "cen = pd.read_csv('/Users/alexandrabruno/Documents/flatiron/data/agg4.csv')"
   ]
  },
  {
   "cell_type": "code",
   "execution_count": null,
   "metadata": {},
   "outputs": [],
   "source": [
    "states = list(cen['STATE'].unique())\n",
    "years = list(cen['YEAR'].unique())\n",
    "ages = list(cen['AGE'].unique())\n",
    "x = len(states)*len(years)*len(ages)\n",
    "cols = ['YEAR', 'STATE', 'AGE', 'PRC_BLK', 'PRC_WHT', 'PRC_HISP', 'PRC_OTHER']\n",
    "df = pd.DataFrame(columns = cols, index = list(range(x)))\n",
    "\n",
    "\n",
    "for state in states:\n",
    "    for year in years:\n",
    "        for age in ages:\n",
    "            row = cen[cen['STATE'] == state][cen['AGE'] == age][cen['YEAR']==year].bfill().drop_duplicates().dropna()\n",
    "            df = pd.concat([df,row]).dropna()\n",
    "    \n",
    "df "
   ]
  },
  {
   "cell_type": "code",
   "execution_count": null,
   "metadata": {},
   "outputs": [],
   "source": [
    "cen.to_csv('/Users/alexandrabruno/Documents/flatiron/data/races_cleaned.csv')"
   ]
  },
  {
   "cell_type": "markdown",
   "metadata": {},
   "source": [
    "Cleaning our education features"
   ]
  },
  {
   "cell_type": "code",
   "execution_count": null,
   "metadata": {},
   "outputs": [],
   "source": [
    "cen = pd.read_csv('/Users/alexandrabruno/Documents/flatiron/data/agg8.csv')"
   ]
  },
  {
   "cell_type": "code",
   "execution_count": null,
   "metadata": {},
   "outputs": [],
   "source": [
    "states = list(cen['STATE'].unique())\n",
    "years = list(cen['YEAR'].unique())\n",
    "ages = list(cen['AGE'].unique())\n",
    "x = len(states)*len(years)*len(ages)\n",
    "cols = ['YEAR', 'STATE', 'AGE', 'LESS_HS', 'HS', 'SOM_COL', 'COL_PLUS']\n",
    "df = pd.DataFrame(columns = cols, index = list(range(x)))\n",
    "\n",
    "\n",
    "for state in states:\n",
    "    for year in years:\n",
    "        for age in ages:\n",
    "            row = cen[cen['STATE'] == state][cen['AGE'] == age][cen['YEAR']==year].bfill().drop_duplicates().dropna()\n",
    "            df = pd.concat([df,row]).dropna()\n",
    "    \n",
    "df"
   ]
  },
  {
   "cell_type": "code",
   "execution_count": 3,
   "metadata": {},
   "outputs": [
    {
     "ename": "NameError",
     "evalue": "name 'cen' is not defined",
     "output_type": "error",
     "traceback": [
      "\u001b[0;31m---------------------------------------------------------------------------\u001b[0m",
      "\u001b[0;31mNameError\u001b[0m                                 Traceback (most recent call last)",
      "\u001b[0;32m<ipython-input-3-3644922501ca>\u001b[0m in \u001b[0;36m<module>\u001b[0;34m\u001b[0m\n\u001b[0;32m----> 1\u001b[0;31m \u001b[0mcen\u001b[0m\u001b[0;34m.\u001b[0m\u001b[0mto_csv\u001b[0m\u001b[0;34m(\u001b[0m\u001b[0;34m'/Users/alexandrabruno/Documents/flatiron/data/edu_cleaned.csv'\u001b[0m\u001b[0;34m)\u001b[0m\u001b[0;34m\u001b[0m\u001b[0;34m\u001b[0m\u001b[0m\n\u001b[0m",
      "\u001b[0;31mNameError\u001b[0m: name 'cen' is not defined"
     ]
    }
   ],
   "source": [
    "cen.to_csv('/Users/alexandrabruno/Documents/flatiron/data/edu_cleaned.csv')"
   ]
  },
  {
   "cell_type": "code",
   "execution_count": 2,
   "metadata": {},
   "outputs": [
    {
     "ename": "NameError",
     "evalue": "name 'pd' is not defined",
     "output_type": "error",
     "traceback": [
      "\u001b[0;31m---------------------------------------------------------------------------\u001b[0m",
      "\u001b[0;31mNameError\u001b[0m                                 Traceback (most recent call last)",
      "\u001b[0;32m<ipython-input-2-b121ad437437>\u001b[0m in \u001b[0;36m<module>\u001b[0;34m\u001b[0m\n\u001b[0;32m----> 1\u001b[0;31m \u001b[0mcen\u001b[0m \u001b[0;34m=\u001b[0m \u001b[0mpd\u001b[0m\u001b[0;34m.\u001b[0m\u001b[0mread_csv\u001b[0m\u001b[0;34m(\u001b[0m\u001b[0;34m'/Users/alexandrabruno/Documents/flatiron/data/edu_cleaned.csv'\u001b[0m\u001b[0;34m)\u001b[0m\u001b[0;34m\u001b[0m\u001b[0;34m\u001b[0m\u001b[0m\n\u001b[0m",
      "\u001b[0;31mNameError\u001b[0m: name 'pd' is not defined"
     ]
    }
   ],
   "source": [
    "cen = pd.read_csv('/Users/alexandrabruno/Documents/flatiron/data/edu_cleaned.csv')"
   ]
  }
 ],
 "metadata": {
  "kernelspec": {
   "display_name": "learn-env",
   "language": "python",
   "name": "learn-env"
  },
  "language_info": {
   "codemirror_mode": {
    "name": "ipython",
    "version": 3
   },
   "file_extension": ".py",
   "mimetype": "text/x-python",
   "name": "python",
   "nbconvert_exporter": "python",
   "pygments_lexer": "ipython3",
   "version": "3.8.3"
  },
  "toc": {
   "base_numbering": 1,
   "nav_menu": {},
   "number_sections": true,
   "sideBar": true,
   "skip_h1_title": false,
   "title_cell": "Table of Contents",
   "title_sidebar": "Contents",
   "toc_cell": false,
   "toc_position": {},
   "toc_section_display": true,
   "toc_window_display": false
  }
 },
 "nbformat": 4,
 "nbformat_minor": 4
}
