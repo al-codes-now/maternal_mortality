{
 "cells": [
  {
   "cell_type": "markdown",
   "metadata": {},
   "source": [
    "# **Web-scraping**"
   ]
  },
  {
   "cell_type": "code",
   "execution_count": 1,
   "metadata": {},
   "outputs": [],
   "source": [
    "import selenium\n",
    "from selenium import webdriver\n",
    "from selenium.webdriver.common.by import By\n",
    "from selenium.webdriver.common.keys import Keys\n",
    "from selenium.common.exceptions import TimeoutException\n",
    "from selenium.webdriver.support.ui import WebDriverWait\n",
    "from selenium.webdriver.support import expected_conditions as EC\n",
    "import time\n",
    "import pandas as pd"
   ]
  },
  {
   "cell_type": "code",
   "execution_count": 2,
   "metadata": {},
   "outputs": [],
   "source": [
    "%%capture\n",
    "from tqdm import tqdm_notebook as tqdm\n",
    "import numpy as np"
   ]
  },
  {
   "cell_type": "markdown",
   "metadata": {},
   "source": [
    "# For Chlamydia\n",
    "\n",
    "Below I am using selenium to scrape a table of Data from a CDC website. The scrape below is for the data on Chlamydia in the United States. "
   ]
  },
  {
   "cell_type": "code",
   "execution_count": 3,
   "metadata": {},
   "outputs": [],
   "source": [
    "# to open up the \n",
    "driver = webdriver.Chrome()"
   ]
  },
  {
   "cell_type": "code",
   "execution_count": 4,
   "metadata": {},
   "outputs": [],
   "source": [
    "# link to site we will be scraping\n",
    "url = 'https://gis.cdc.gov/grasp/nchhstpatlas/tables.html'"
   ]
  },
  {
   "cell_type": "markdown",
   "metadata": {},
   "source": [
    "When we are brought to this site I select specific parameters that are listed below \n",
    "\n",
    "STD - Chlamydia \n",
    "\n",
    "Select national, state, or county-level data - Select all states\n",
    "\n",
    "Year - 2008-2018\n",
    "\n",
    "Demographic age ranges - 15 - 40 years old\n",
    "\n",
    "Sex - Female"
   ]
  },
  {
   "cell_type": "code",
   "execution_count": 5,
   "metadata": {},
   "outputs": [],
   "source": [
    "# opens up site we need to scrape\n",
    "driver.get(url)"
   ]
  },
  {
   "cell_type": "code",
   "execution_count": 8,
   "metadata": {},
   "outputs": [],
   "source": [
    "col_names =  'Indicator Year Geography Age Group Cases Rate per 100,000'"
   ]
  },
  {
   "cell_type": "code",
   "execution_count": null,
   "metadata": {},
   "outputs": [],
   "source": [
    "master = []\n",
    "for i in tqdm(range(0,1801)):\n",
    "    table = driver.find_element_by_tag_name('table').text\n",
    "    table = table.split('\\n')\n",
    "    master.extend(table)\n",
    "    \n",
    "    next_b = driver.find_element_by_xpath('//*[@id=\"pivotTable_next\"]')\n",
    "    next_b.click()"
   ]
  },
  {
   "cell_type": "code",
   "execution_count": null,
   "metadata": {},
   "outputs": [],
   "source": [
    "master = [x for x in master if x != col_names]"
   ]
  },
  {
   "cell_type": "code",
   "execution_count": 11,
   "metadata": {},
   "outputs": [],
   "source": [
    "states = [\"Alabama\",\"Arizona\",\"Arkansas\",\"California\",\"Colorado\",\n",
    "  \"Connecticut\",\"Delaware\",\"Florida\",\"Georgia\",\"Idaho\",\"Illinois\",\n",
    "  \"Indiana\",\"Iowa\",\"Kansas\",\"Kentucky\",\"Louisiana\",\"Maine\",\"Maryland\", \"Hawaii\",\"Alaska\",\n",
    "  \"Massachusetts\",\"Michigan\",\"Minnesota\",\"Mississippi\",\"Missouri\",\"Montana\",\n",
    "  \"Nebraska\",\"Nevada\",\"New Hampshire\",\"New Jersey\",\"New Mexico\",\"New York\",\n",
    "  \"North Carolina\",\"North Dakota\",\"Ohio\",\"Oklahoma\",\"Oregon\",\"Pennsylvania\",\n",
    "  \"Rhode Island\",\"South Carolina\",\"South Dakota\",\"Tennessee\",\"Texas\",\"Utah\",\n",
    "  \"Vermont\",\"Virginia\",\"Washington\",\"West Virginia\",\"Wisconsin\",\"Wyoming\",\"District of Columbia\"]"
   ]
  },
  {
   "cell_type": "code",
   "execution_count": null,
   "metadata": {},
   "outputs": [],
   "source": [
    "new_master = []\n",
    "for row in master:\n",
    "    for state in states:\n",
    "        if state in row:\n",
    "            x = state\n",
    "            f = row.split(' ' + state)\n",
    "            first3 = f[0].split(' ') + [x]\n",
    "            p = f[1].split()\n",
    "            race = p[:-3]\n",
    "            rest = p[-3:]\n",
    "            rest, race\n",
    "            first3.append(race)\n",
    "            final = first3 + rest\n",
    "    new_master.append(final)\n",
    "for x in new_master:\n",
    "    if len(x[3]) == 1:\n",
    "        x[3] = x[3][0]\n",
    "    else:\n",
    "        x[3] = ' '.join(x[3])"
   ]
  },
  {
   "cell_type": "code",
   "execution_count": null,
   "metadata": {},
   "outputs": [],
   "source": [
    "df_1 = pd.DataFrame.from_records(new_master)"
   ]
  },
  {
   "cell_type": "code",
   "execution_count": null,
   "metadata": {},
   "outputs": [],
   "source": [
    "new_header = [\n",
    "'Indicator',\n",
    "    'YEAR',\n",
    " 'STATE',\n",
    "    'AGE',\n",
    "    'Cases',\n",
    "    'RTE_GON'\n",
    "]\n",
    "\n",
    "df_2.columns = new_header"
   ]
  },
  {
   "cell_type": "code",
   "execution_count": null,
   "metadata": {},
   "outputs": [],
   "source": [
    "df_1.to_csv('')"
   ]
  },
  {
   "cell_type": "markdown",
   "metadata": {},
   "source": [
    "# For Gonorrhea"
   ]
  },
  {
   "cell_type": "code",
   "execution_count": 4,
   "metadata": {},
   "outputs": [],
   "source": [
    "# to open up the \n",
    "driver = webdriver.Chrome()"
   ]
  },
  {
   "cell_type": "code",
   "execution_count": 5,
   "metadata": {},
   "outputs": [],
   "source": [
    "# link to site we will be scraping\n",
    "url = 'https://gis.cdc.gov/grasp/nchhstpatlas/tables.html'"
   ]
  },
  {
   "cell_type": "markdown",
   "metadata": {},
   "source": [
    "When we are brought to this site I select specific parameters that are listed below \n",
    "\n",
    "STD - Gonorrhea\n",
    "\n",
    "Select national, state, or county-level data - Select all states\n",
    "\n",
    "Year - 2008-2018\n",
    "\n",
    "Demographic age ranges - 15 - 40 years old\n",
    "\n",
    "Sex - Female"
   ]
  },
  {
   "cell_type": "code",
   "execution_count": 6,
   "metadata": {},
   "outputs": [],
   "source": [
    "# opens up site we need to scrape\n",
    "driver.get(url)"
   ]
  },
  {
   "cell_type": "code",
   "execution_count": 7,
   "metadata": {},
   "outputs": [
    {
     "name": "stderr",
     "output_type": "stream",
     "text": [
      "<ipython-input-7-1315d1b18f3c>:2: TqdmDeprecationWarning: This function will be removed in tqdm==5.0.0\n",
      "Please use `tqdm.notebook.tqdm` instead of `tqdm.tqdm_notebook`\n",
      "  for i in tqdm(range(0,291)):\n"
     ]
    },
    {
     "data": {
      "application/vnd.jupyter.widget-view+json": {
       "model_id": "fb085f77fd69457baadfdb32f37bb0e1",
       "version_major": 2,
       "version_minor": 0
      },
      "text/plain": [
       "HBox(children=(FloatProgress(value=0.0, max=291.0), HTML(value='')))"
      ]
     },
     "metadata": {},
     "output_type": "display_data"
    },
    {
     "name": "stdout",
     "output_type": "stream",
     "text": [
      "\n"
     ]
    }
   ],
   "source": [
    "master = []\n",
    "for i in tqdm(range(0,291)):\n",
    "    table = driver.find_element_by_tag_name('table').text\n",
    "    table = table.split('\\n')\n",
    "    master.extend(table)\n",
    "    \n",
    "    next_b = driver.find_element_by_xpath('//*[@id=\"pivotTable_next\"]')\n",
    "    next_b.click()"
   ]
  },
  {
   "cell_type": "code",
   "execution_count": 9,
   "metadata": {},
   "outputs": [],
   "source": [
    "master = [x for x in master if x != col_names]"
   ]
  },
  {
   "cell_type": "code",
   "execution_count": 13,
   "metadata": {},
   "outputs": [],
   "source": [
    "new_master = []\n",
    "for row in master:\n",
    "    for state in states:\n",
    "        if state in row:\n",
    "            x = state\n",
    "            f = row.split(' ' + state)\n",
    "            first3 = f[0].split(' ') + [x]\n",
    "            p = f[1].split()\n",
    "            race = p[:-3]\n",
    "            rest = p[-3:]\n",
    "            rest, race\n",
    "            first3.append(race)\n",
    "            final = first3 + rest\n",
    "    new_master.append(final)\n",
    "for x in new_master:\n",
    "    if len(x[3]) == 1:\n",
    "        x[3] = x[3][0]\n",
    "    else:\n",
    "        x[3] = ' '.join(x[3])"
   ]
  },
  {
   "cell_type": "code",
   "execution_count": 14,
   "metadata": {},
   "outputs": [],
   "source": [
    "df_2 = pd.DataFrame.from_records(new_master)"
   ]
  },
  {
   "cell_type": "code",
   "execution_count": 16,
   "metadata": {},
   "outputs": [],
   "source": [
    "new_header = [\n",
    "'Indicator',\n",
    "    'YEAR',\n",
    " 'STATE',\n",
    "    'AGE',\n",
    "    'Cases',\n",
    "    'RTE_GON'\n",
    "]\n",
    "\n",
    "df_2.columns = new_header"
   ]
  },
  {
   "cell_type": "code",
   "execution_count": 18,
   "metadata": {},
   "outputs": [],
   "source": [
    "df_2.to_csv('')"
   ]
  }
 ],
 "metadata": {
  "kernelspec": {
   "display_name": "learn-env",
   "language": "python",
   "name": "learn-env"
  },
  "language_info": {
   "codemirror_mode": {
    "name": "ipython",
    "version": 3
   },
   "file_extension": ".py",
   "mimetype": "text/x-python",
   "name": "python",
   "nbconvert_exporter": "python",
   "pygments_lexer": "ipython3",
   "version": "3.8.3"
  },
  "toc": {
   "base_numbering": 1,
   "nav_menu": {},
   "number_sections": true,
   "sideBar": true,
   "skip_h1_title": false,
   "title_cell": "Table of Contents",
   "title_sidebar": "Contents",
   "toc_cell": false,
   "toc_position": {},
   "toc_section_display": true,
   "toc_window_display": false
  }
 },
 "nbformat": 4,
 "nbformat_minor": 4
}
